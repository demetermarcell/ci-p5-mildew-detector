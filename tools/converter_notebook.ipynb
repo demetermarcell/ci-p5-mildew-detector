{
 "cells": [
  {
   "cell_type": "markdown",
   "id": "40e2b6bb",
   "metadata": {},
   "source": [
    "### Convert model to TFLite model"
   ]
  },
  {
   "cell_type": "code",
   "execution_count": 7,
   "id": "9b0ba76d",
   "metadata": {},
   "outputs": [
    {
     "name": "stderr",
     "output_type": "stream",
     "text": [
      "WARNING:absl:Please consider providing the trackable_obj argument in the from_concrete_functions. Providing without the trackable_obj argument is deprecated and it will use the deprecated conversion path.\n"
     ]
    },
    {
     "name": "stdout",
     "output_type": "stream",
     "text": [
      "Direct Keras conversion failed, retrying with concrete function...\n",
      " AttributeError(\"'Sequential' object has no attribute '_get_save_spec'\")\n"
     ]
    },
    {
     "name": "stderr",
     "output_type": "stream",
     "text": [
      "2025-10-12 12:18:27.005948: I tensorflow/core/grappler/devices.cc:75] Number of eligible GPUs (core count >= 8, compute capability >= 0.0): 0 (Note: TensorFlow was not compiled with CUDA or ROCm support)\n",
      "2025-10-12 12:18:27.006353: I tensorflow/core/grappler/clusters/single_machine.cc:361] Starting new session\n",
      "2025-10-12 12:18:27.006781: I tensorflow/core/common_runtime/pluggable_device/pluggable_device_factory.cc:305] Could not identify NUMA node of platform GPU ID 0, defaulting to 0. Your kernel may not have been built with NUMA support.\n",
      "2025-10-12 12:18:27.006789: I tensorflow/core/common_runtime/pluggable_device/pluggable_device_factory.cc:271] Created TensorFlow device (/job:localhost/replica:0/task:0/device:GPU:0 with 0 MB memory) -> physical PluggableDevice (device: 0, name: METAL, pci bus id: <undefined>)\n",
      "WARNING: All log messages before absl::InitializeLog() is called are written to STDERR\n",
      "W0000 00:00:1760267907.157350 9900951 tf_tfl_flatbuffer_helpers.cc:390] Ignored output_format.\n",
      "W0000 00:00:1760267907.157722 9900951 tf_tfl_flatbuffer_helpers.cc:393] Ignored drop_control_dependency.\n",
      "2025-10-12 12:18:27.253117: I tensorflow/compiler/mlir/lite/flatbuffer_export.cc:3064] Estimated count of arithmetic ops: 1.041 G  ops, equivalently 0.521 G  MACs\n"
     ]
    },
    {
     "name": "stdout",
     "output_type": "stream",
     "text": [
      "✅ TFLite saved to: /Users/marcelldemeter/GIT/CodeInstitute/ci-p5-mildew-detector/outputs/step_2/tflite/step_2_bs32_k3_do0.3_act-elu_opt-adamax_seed27.tflite\n"
     ]
    }
   ],
   "source": [
    "# Robust .keras -> .tflite converter (no SavedModel route)\n",
    "# Works from tools/converter_notebook.ipynb\n",
    "\n",
    "from pathlib import Path\n",
    "import tensorflow as tf\n",
    "\n",
    "# --- Paths (relative to the notebook in tools/) ---\n",
    "model_path  = Path(\"../outputs/step_2/models/step_2_bs32_k3_do0.3_act-elu_opt-adamax_seed27.keras\").resolve()\n",
    "tflite_dir  = Path(\"../outputs/step_2/tflite\").resolve()\n",
    "tflite_dir.mkdir(parents=True, exist_ok=True)\n",
    "tflite_path = tflite_dir / \"step_2_bs32_k3_do0.3_act-elu_opt-adamax_seed27.tflite\"\n",
    "\n",
    "# --- Load model ---\n",
    "assert model_path.exists(), f\"Model not found at: {model_path}\"\n",
    "model = tf.keras.models.load_model(str(model_path))\n",
    "\n",
    "# --- Ensure the model is 'built' with a concrete input shape ---\n",
    "# Infer shape from the model's first input\n",
    "inp = model.inputs[0]\n",
    "shape = list(inp.shape)\n",
    "# Replace None batch with 1\n",
    "shape[0] = 1\n",
    "dummy = tf.zeros(shape, dtype=inp.dtype or tf.float32)\n",
    "# One forward pass to finalize shapes\n",
    "_ = model(dummy)\n",
    "\n",
    "def convert_with_keras_model(m):\n",
    "    converter = tf.lite.TFLiteConverter.from_keras_model(m)\n",
    "    # Optional size reduction:\n",
    "    # converter.optimizations = [tf.lite.Optimize.DEFAULT]\n",
    "    return converter.convert()\n",
    "\n",
    "def convert_with_concrete_fn(m):\n",
    "    @tf.function\n",
    "    def serve(x):\n",
    "        return m(x)\n",
    "    concrete = serve.get_concrete_function(tf.TensorSpec(shape, dummy.dtype))\n",
    "    converter = tf.lite.TFLiteConverter.from_concrete_functions([concrete])\n",
    "    # Optional size reduction:\n",
    "    # converter.optimizations = [tf.lite.Optimize.DEFAULT]\n",
    "    return converter.convert()\n",
    "\n",
    "# --- Try direct Keras path; fallback to concrete function if needed ---\n",
    "try:\n",
    "    tflite_bytes = convert_with_keras_model(model)\n",
    "except Exception as e1:\n",
    "    print(\"Direct Keras conversion failed, retrying with concrete function...\\n\", repr(e1))\n",
    "    tflite_bytes = convert_with_concrete_fn(model)\n",
    "\n",
    "tflite_path.write_bytes(tflite_bytes)\n",
    "print(\"✅ TFLite saved to:\", tflite_path)\n"
   ]
  }
 ],
 "metadata": {
  "kernelspec": {
   "display_name": "mildew-env",
   "language": "python",
   "name": "python3"
  },
  "language_info": {
   "codemirror_mode": {
    "name": "ipython",
    "version": 3
   },
   "file_extension": ".py",
   "mimetype": "text/x-python",
   "name": "python",
   "nbconvert_exporter": "python",
   "pygments_lexer": "ipython3",
   "version": "3.12.9"
  }
 },
 "nbformat": 4,
 "nbformat_minor": 5
}
