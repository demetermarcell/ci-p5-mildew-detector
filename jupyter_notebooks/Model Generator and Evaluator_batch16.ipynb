{
 "cells": [
  {
   "cell_type": "markdown",
   "id": "813fcb18",
   "metadata": {},
   "source": [
    "# Modelling and Evaluation Notebook"
   ]
  },
  {
   "cell_type": "markdown",
   "id": "21238f09",
   "metadata": {},
   "source": [
    "## Objectives\n",
    "\n",
    "* Load the cherry-leaf dataset (train / validation / test) and set up image augmentation for training.\n",
    "* Save the label mapping.\n",
    "* Train a small CNN 16 times at batch size 16, sweeping:\n",
    "    - dropout: 0.5 or 0.3\n",
    "    - kernel size: 3 or 5\n",
    "    - activation: relu or elu\n",
    "    - optimizer: adam or adamax\n",
    "* Use EarlyStopping and save the best model for each run.\n",
    "* Evaluate each run on the validation set and collect: loss, accuracy, precision, recall, F1, and a confusion matrix.\n",
    "* Build a simple leaderboard to compare runs and pick the top candidates for the next step.\n",
    "\n",
    "## Inputs\n",
    "\n",
    "* inputs/mildew-dataset/cherry-leaves/train\n",
    "* inputs/mildew-dataset/cherry-leaves/test\n",
    "* inputs/mildew-dataset/cherry-leaves/validation\n",
    "* image shape embeddings\n",
    "\n",
    "## Outputs\n",
    "* class_indices.pkl — saved label mapping.\n",
    "* For each trained model:\n",
    "    - best model file\n",
    "    - training history\n",
    "    - learning curves plot\n",
    "    - validation metrics\n",
    "* Leaderboard CSV: reports/grid_report_bs16.csv (sorted by validation accuracy, with validation loss as tie-breaker).\n",
    "\n",
    "## Additional Comments | Insights | Conclusions"
   ]
  },
  {
   "cell_type": "markdown",
   "id": "05f9af52",
   "metadata": {},
   "source": [
    "---"
   ]
  },
  {
   "cell_type": "markdown",
   "id": "83795410",
   "metadata": {},
   "source": [
    "## Import Libraries"
   ]
  },
  {
   "cell_type": "code",
   "execution_count": 5,
   "id": "e23eb02e",
   "metadata": {},
   "outputs": [],
   "source": [
    "\n",
    "import os, math, json, itertools, time, joblib\n",
    "import pandas as pd\n",
    "import numpy as np\n",
    "import matplotlib.pyplot as plt\n",
    "import seaborn as sns\n",
    "from matplotlib.image import imread\n",
    "from pathlib import Path\n",
    "\n",
    "# TensorFlow and Keras:\n",
    "import tensorflow as tf\n",
    "from tensorflow.keras import Sequential\n",
    "from tensorflow.keras.layers import Conv2D, MaxPooling2D, Dropout, Flatten, Dense, BatchNormalization\n",
    "from tensorflow.keras.optimizers import Adam, Adamax\n",
    "from tensorflow.keras.callbacks import EarlyStopping, ModelCheckpoint, ReduceLROnPlateau\n",
    "\n",
    "# Sklearn:\n",
    "from sklearn.metrics import classification_report, accuracy_score, precision_score, recall_score, f1_score, roc_auc_score, confusion_matrix"
   ]
  },
  {
   "cell_type": "markdown",
   "id": "9c57a0a1",
   "metadata": {},
   "source": [
    "---"
   ]
  },
  {
   "cell_type": "markdown",
   "id": "84af3a75",
   "metadata": {},
   "source": [
    "## Set Seed"
   ]
  },
  {
   "cell_type": "code",
   "execution_count": 6,
   "id": "076422ed",
   "metadata": {},
   "outputs": [],
   "source": [
    "SEED = 27\n",
    "np.random.seed(SEED)\n",
    "tf.random.set_seed(SEED)"
   ]
  },
  {
   "cell_type": "markdown",
   "id": "bc4da49b",
   "metadata": {},
   "source": [
    "---"
   ]
  },
  {
   "cell_type": "markdown",
   "id": "02a6c1d9",
   "metadata": {},
   "source": [
    "## Define Main Variables"
   ]
  },
  {
   "cell_type": "code",
   "execution_count": 7,
   "id": "6a961578",
   "metadata": {},
   "outputs": [],
   "source": [
    "version = 'step_1'\n",
    "\n",
    "# Set batch size\n",
    "batch_size = 16\n",
    "\n",
    "# Set number of epochs\n",
    "epochs = 25\n",
    "\n",
    "# Define Hyperparameter Grid:\n",
    "HYP_GRID = {\n",
    "    \"dropout\":     [0.5, 0.3],\n",
    "    \"kernel_size\": [3, 5],\n",
    "    \"activation\":  [\"relu\", \"elu\"],\n",
    "    \"optimizer\":   [\"adam\", \"adamax\"],\n",
    "}"
   ]
  },
  {
   "cell_type": "markdown",
   "id": "70eed715",
   "metadata": {},
   "source": [
    "---"
   ]
  },
  {
   "cell_type": "markdown",
   "id": "d9d08a42",
   "metadata": {},
   "source": [
    "## Set Scenarios:"
   ]
  },
  {
   "cell_type": "code",
   "execution_count": 8,
   "id": "eead31e2",
   "metadata": {},
   "outputs": [
    {
     "name": "stdout",
     "output_type": "stream",
     "text": [
      "Total scenarios: 16\n"
     ]
    },
    {
     "data": {
      "text/plain": [
       "[{'dropout': 0.5, 'kernel_size': 3, 'activation': 'relu', 'optimizer': 'adam'},\n",
       " {'dropout': 0.5,\n",
       "  'kernel_size': 3,\n",
       "  'activation': 'relu',\n",
       "  'optimizer': 'adamax'},\n",
       " {'dropout': 0.5, 'kernel_size': 3, 'activation': 'elu', 'optimizer': 'adam'}]"
      ]
     },
     "execution_count": 8,
     "metadata": {},
     "output_type": "execute_result"
    }
   ],
   "source": [
    "SCENARIOS = [dict(zip(HYP_GRID.keys(), vals)) for vals in itertools.product(*HYP_GRID.values())]\n",
    "print(f\"Total scenarios: {len(SCENARIOS)}\")\n",
    "SCENARIOS[:3]"
   ]
  },
  {
   "cell_type": "markdown",
   "id": "58054516",
   "metadata": {},
   "source": [
    "### Create Run Tag Hashes "
   ]
  },
  {
   "cell_type": "code",
   "execution_count": 9,
   "id": "946792f9",
   "metadata": {},
   "outputs": [],
   "source": [
    "def run_tag(cfg: dict, version: str, batch_size: int, seed: int | None = None, include_seed: bool = True) -> str:\n",
    "    \"\"\"\n",
    "    Build a readable tag like:\n",
    "      step_1_bs16_k3_do0.5_act-relu_opt-adam_seed27\n",
    "    \"\"\"\n",
    "    parts = [\n",
    "        version,\n",
    "        f\"bs{batch_size}\",\n",
    "        f\"k{cfg['kernel_size']}\",\n",
    "        f\"do{cfg['dropout']}\",\n",
    "        f\"act-{cfg['activation']}\",\n",
    "        f\"opt-{cfg['optimizer']}\",\n",
    "    ]\n",
    "    if include_seed and seed is not None:\n",
    "        parts.append(f\"seed{seed}\")\n",
    "    return \"_\".join(parts)"
   ]
  },
  {
   "cell_type": "markdown",
   "id": "b4befe7c",
   "metadata": {},
   "source": [
    "---"
   ]
  },
  {
   "cell_type": "markdown",
   "id": "cf8bcded",
   "metadata": {},
   "source": [
    "# Set Directories"
   ]
  },
  {
   "cell_type": "markdown",
   "id": "c34aff81",
   "metadata": {},
   "source": [
    "  ## Set Working Directory"
   ]
  },
  {
   "cell_type": "code",
   "execution_count": 10,
   "id": "1b49532c",
   "metadata": {},
   "outputs": [
    {
     "name": "stdout",
     "output_type": "stream",
     "text": [
      "New working directory: /Users/marcelldemeter/GIT/CodeInstitute/ci-p5-mildew-detector \n"
     ]
    }
   ],
   "source": [
    "# Parent directory\n",
    "parent_dir =  \"/Users/marcelldemeter/GIT/CodeInstitute/ci-p5-mildew-detector\"\n",
    "\n",
    "# Change working directory to parent directory\n",
    "os.chdir(parent_dir)\n",
    "print (f\"New working directory: {os.getcwd()} \")"
   ]
  },
  {
   "cell_type": "markdown",
   "id": "dac8bcbe",
   "metadata": {},
   "source": [
    "## Set Input Directory"
   ]
  },
  {
   "cell_type": "code",
   "execution_count": 11,
   "id": "16455d70",
   "metadata": {},
   "outputs": [],
   "source": [
    "dataset_dir = \"inputs/mildew-dataset/cherry-leaves\"\n",
    "train_dir = os.path.join(parent_dir, dataset_dir, \"train\")\n",
    "validation_dir = os.path.join(parent_dir, dataset_dir, \"validation\")\n",
    "test_dir = os.path.join(parent_dir, dataset_dir, \"test\")"
   ]
  },
  {
   "cell_type": "markdown",
   "id": "b3077699",
   "metadata": {},
   "source": [
    "## Set Output Directory"
   ]
  },
  {
   "cell_type": "code",
   "execution_count": 12,
   "id": "b6424fd3",
   "metadata": {},
   "outputs": [],
   "source": [
    "\n",
    "file_path = f'outputs/{version}'\n",
    "\n",
    "# Create main output directory if it doesn’t exist\n",
    "if 'outputs' in os.listdir(parent_dir) and version in os.listdir(parent_dir + '/outputs'):\n",
    "    print('Old version is already available create a new version.')\n",
    "    pass\n",
    "else:\n",
    "    os.makedirs(name=file_path)\n",
    "\n",
    "# Define subfolders and ensure they exist:\n",
    "models_dir = os.path.join(file_path, 'models')\n",
    "reports_dir = os.path.join(file_path, 'reports')\n",
    "\n",
    "os.makedirs(models_dir, exist_ok=True)\n",
    "os.makedirs(reports_dir, exist_ok=True)\n"
   ]
  },
  {
   "cell_type": "markdown",
   "id": "eefadff6",
   "metadata": {},
   "source": [
    "### Get Artifact Paths:"
   ]
  },
  {
   "cell_type": "code",
   "execution_count": 13,
   "id": "3ed8efb8",
   "metadata": {},
   "outputs": [],
   "source": [
    "def get_artifact_paths(models_dir: str, reports_dir: str, tag: str) -> dict:\n",
    "    \"\"\"\n",
    "    Return file paths (no new dirs) for this run's artifacts, using the tag in filenames.\n",
    "    \"\"\"\n",
    "    return {\n",
    "        \"model_path\":   Path(models_dir)  / f\"{tag}.keras\",\n",
    "        \"history_pkl\":  Path(reports_dir) / f\"history_{tag}.pkl\",\n",
    "        \"evaluation_pkl\": Path(reports_dir) / f\"eval_{tag}.pkl\",\n",
    "        \"curve_png\":    Path(reports_dir) / f\"curves_{tag}.png\",\n",
    "    }"
   ]
  },
  {
   "cell_type": "markdown",
   "id": "c0360e99",
   "metadata": {},
   "source": [
    "---"
   ]
  },
  {
   "cell_type": "markdown",
   "id": "44d28d9a",
   "metadata": {},
   "source": [
    "## Set Labels"
   ]
  },
  {
   "cell_type": "code",
   "execution_count": 14,
   "id": "d7b9abbc",
   "metadata": {},
   "outputs": [
    {
     "name": "stdout",
     "output_type": "stream",
     "text": [
      "Label for the images are ['powdery_mildew', 'healthy']\n"
     ]
    }
   ],
   "source": [
    "# Set the labels\n",
    "labels = os.listdir(train_dir)\n",
    "print('Label for the images are', labels)"
   ]
  },
  {
   "cell_type": "markdown",
   "id": "d6931e95",
   "metadata": {},
   "source": [
    "## Set image shape"
   ]
  },
  {
   "cell_type": "code",
   "execution_count": 15,
   "id": "8be5db40",
   "metadata": {},
   "outputs": [
    {
     "data": {
      "text/plain": [
       "(256, 256, 3)"
      ]
     },
     "execution_count": 15,
     "metadata": {},
     "output_type": "execute_result"
    }
   ],
   "source": [
    "## Import saved image shape embedding\n",
    "import joblib\n",
    "version = 'v1'\n",
    "image_shape = joblib.load(filename=f\"outputs/{version}/image_shape.pkl\")\n",
    "image_shape"
   ]
  },
  {
   "cell_type": "markdown",
   "id": "b8ddfb0c",
   "metadata": {},
   "source": [
    "---"
   ]
  },
  {
   "cell_type": "markdown",
   "id": "3be1e8e5",
   "metadata": {},
   "source": [
    "# Image Data Augmentation"
   ]
  },
  {
   "cell_type": "markdown",
   "id": "a252e7bf",
   "metadata": {},
   "source": [
    "### Image Data Generator"
   ]
  },
  {
   "cell_type": "code",
   "execution_count": 16,
   "id": "5eca2f31",
   "metadata": {},
   "outputs": [],
   "source": [
    "from tensorflow.keras.preprocessing.image import ImageDataGenerator"
   ]
  },
  {
   "cell_type": "markdown",
   "id": "94b4ca11",
   "metadata": {},
   "source": [
    "### Initialize ImageDataGenerator"
   ]
  },
  {
   "cell_type": "code",
   "execution_count": 17,
   "id": "c5779632",
   "metadata": {},
   "outputs": [],
   "source": [
    "augmented_image_data = ImageDataGenerator(rotation_range=20,\n",
    "                                          width_shift_range=0.10,\n",
    "                                          height_shift_range=0.10,\n",
    "                                          shear_range=0.1,\n",
    "                                          zoom_range=0.1,\n",
    "                                          horizontal_flip=True,\n",
    "                                          vertical_flip=True,\n",
    "                                          fill_mode='nearest',\n",
    "                                          rescale=1./255\n",
    "                                          )\n"
   ]
  },
  {
   "cell_type": "markdown",
   "id": "5de41e30",
   "metadata": {},
   "source": [
    "### Augment image datasets"
   ]
  },
  {
   "cell_type": "code",
   "execution_count": 18,
   "id": "9a4cf019",
   "metadata": {},
   "outputs": [
    {
     "name": "stdout",
     "output_type": "stream",
     "text": [
      "Found 2944 images belonging to 2 classes.\n",
      "Found 420 images belonging to 2 classes.\n",
      "Found 844 images belonging to 2 classes.\n"
     ]
    },
    {
     "data": {
      "text/plain": [
       "{'healthy': 0, 'powdery_mildew': 1}"
      ]
     },
     "execution_count": 18,
     "metadata": {},
     "output_type": "execute_result"
    }
   ],
   "source": [
    "# Train Set:\n",
    "train_set = augmented_image_data.flow_from_directory(train_dir,\n",
    "                                                     target_size=image_shape[:2],\n",
    "                                                     color_mode='rgb',\n",
    "                                                     batch_size=batch_size,\n",
    "                                                     class_mode='binary',\n",
    "                                                     shuffle=True\n",
    "                                                     )\n",
    "\n",
    "# Validation Set:\n",
    "validation_set = ImageDataGenerator(rescale=1./255).flow_from_directory(validation_dir,\n",
    "                                                                        target_size=image_shape[:2],\n",
    "                                                                        color_mode='rgb',\n",
    "                                                                        batch_size=batch_size,\n",
    "                                                                        class_mode='binary',\n",
    "                                                                        shuffle=False\n",
    "                                                                        )\n",
    "\n",
    "# Test Set:\n",
    "test_set = ImageDataGenerator(rescale=1./255).flow_from_directory(test_dir,\n",
    "                                                                  target_size=image_shape[:2],\n",
    "                                                                  color_mode='rgb',\n",
    "                                                                  batch_size=batch_size,\n",
    "                                                                  class_mode='binary',\n",
    "                                                                  shuffle=False\n",
    "                                                                  )\n",
    "\n",
    "\n",
    "train_set.class_indices\n",
    "validation_set.class_indices\n",
    "test_set.class_indices"
   ]
  },
  {
   "cell_type": "markdown",
   "id": "940625c9",
   "metadata": {},
   "source": [
    "### Save class_indices"
   ]
  },
  {
   "cell_type": "code",
   "execution_count": 19,
   "id": "7b91ff75",
   "metadata": {},
   "outputs": [
    {
     "data": {
      "text/plain": [
       "['outputs/step_1/class_indices.pkl']"
      ]
     },
     "execution_count": 19,
     "metadata": {},
     "output_type": "execute_result"
    }
   ],
   "source": [
    "joblib.dump(value=train_set.class_indices,\n",
    "            filename=f\"{file_path}/class_indices.pkl\")"
   ]
  },
  {
   "cell_type": "markdown",
   "id": "e8772adb",
   "metadata": {},
   "source": [
    "---"
   ]
  },
  {
   "cell_type": "markdown",
   "id": "891de0de",
   "metadata": {},
   "source": [
    "# Model Creation"
   ]
  },
  {
   "cell_type": "markdown",
   "id": "89ebbb44",
   "metadata": {},
   "source": [
    "## ML Model"
   ]
  },
  {
   "cell_type": "markdown",
   "id": "9588f923",
   "metadata": {},
   "source": [
    "### Model Builder:"
   ]
  },
  {
   "cell_type": "code",
   "execution_count": 20,
   "id": "59352bd9",
   "metadata": {},
   "outputs": [],
   "source": [
    "\n",
    "def build_model(cfg):\n",
    "    \"\"\"\n",
    "    CNN builder using the scenario dict `cfg`.\n",
    "    Expects keys: 'kernel_size', 'dropout', 'activation'.\n",
    "    Uses global `image_shape`.\n",
    "    \"\"\"\n",
    "    k   = int(cfg[\"kernel_size\"])\n",
    "    do  = float(cfg[\"dropout\"])\n",
    "    act = str(cfg[\"activation\"])\n",
    "\n",
    "    m = Sequential(name=f\"cnn_k{k}_do{do}_{act}\")\n",
    "    m.add(Conv2D(32, (k, k), padding='same', activation=act, input_shape=image_shape))\n",
    "    m.add(BatchNormalization()); m.add(MaxPooling2D((2,2)))\n",
    "\n",
    "    m.add(Conv2D(64, (k, k), padding='same', activation=act))\n",
    "    m.add(BatchNormalization()); m.add(MaxPooling2D((2,2)))\n",
    "\n",
    "    m.add(Conv2D(64, (k, k), padding='same', activation=act))\n",
    "    m.add(BatchNormalization()); m.add(MaxPooling2D((2,2)))\n",
    "\n",
    "    m.add(Flatten())\n",
    "    m.add(Dropout(do))\n",
    "    m.add(Dense(64, activation=act))\n",
    "    m.add(Dropout(do))\n",
    "    m.add(Dense(1, activation='sigmoid'))\n",
    "    return m\n"
   ]
  },
  {
   "cell_type": "markdown",
   "id": "942f5e77",
   "metadata": {},
   "source": [
    "### Save History Plot"
   ]
  },
  {
   "cell_type": "code",
   "execution_count": 21,
   "id": "a5739d2d",
   "metadata": {},
   "outputs": [],
   "source": [
    "def save_history_plot(history, out_png):\n",
    "    h = history.history\n",
    "    plt.figure(figsize=(8,5))\n",
    "    if \"accuracy\" in h and \"val_accuracy\" in h:\n",
    "        plt.plot(h[\"accuracy\"], label=\"train_acc\")\n",
    "        plt.plot(h[\"val_accuracy\"], label=\"val_acc\")\n",
    "    if \"loss\" in h and \"val_loss\" in h:\n",
    "        plt.plot(h[\"loss\"], label=\"train_loss\")\n",
    "        plt.plot(h[\"val_loss\"], label=\"val_loss\")\n",
    "    plt.xlabel(\"Epoch\"); plt.ylabel(\"Value\"); plt.legend(); plt.tight_layout()\n",
    "    plt.savefig(out_png, dpi=120); plt.close()"
   ]
  },
  {
   "cell_type": "markdown",
   "id": "8e1e1875",
   "metadata": {},
   "source": [
    "### Train and Evaluate Model"
   ]
  },
  {
   "cell_type": "code",
   "execution_count": 22,
   "id": "72106854",
   "metadata": {},
   "outputs": [],
   "source": [
    "def train_and_eval(cfg: dict):\n",
    "    # tag + artifact paths\n",
    "    tag = run_tag(cfg, version, batch_size, seed=SEED)\n",
    "    P = get_artifact_paths(models_dir, reports_dir, tag)\n",
    "\n",
    "    # build & compile model\n",
    "    model = build_model(cfg)\n",
    "    model.compile(\n",
    "        optimizer=cfg[\"optimizer\"],\n",
    "        loss=\"binary_crossentropy\",\n",
    "        metrics=[tf.keras.metrics.BinaryAccuracy(name=\"accuracy\")]\n",
    "    )\n",
    "\n",
    "    # callbacks (save best by val_accuracy)\n",
    "    cbs = [\n",
    "        # Stop training if val_accuracy doesn't improve for 4 epochs, roll back to best weights:\n",
    "        EarlyStopping(monitor=\"val_accuracy\", mode=\"max\", patience=4, restore_best_weights=True, verbose=1),\n",
    "        # Keep the best model:\n",
    "        ModelCheckpoint(filepath=str(P[\"model_path\"]), monitor=\"val_accuracy\", mode=\"max\", save_best_only=True, verbose=1),\n",
    "    ]\n",
    "\n",
    "    # Fit Model\n",
    "    history = model.fit(\n",
    "        train_set,\n",
    "        epochs= epochs,\n",
    "        batch_size=batch_size,\n",
    "        validation_data=validation_set,\n",
    "        callbacks=cbs,\n",
    "        verbose=2\n",
    "    )\n",
    "\n",
    "    # Save history + curves\n",
    "    joblib.dump(history.history, P[\"history_pkl\"])\n",
    "    save_history_plot(history, P[\"curve_png\"])\n",
    "\n",
    "    # Evaluate on validation: get probabilities, true labels, and hard preds\n",
    "    validation_set.reset()                                      # start from first batch, keep order aligned\n",
    "    y_prob = model.predict(validation_set, verbose=0).squeeze()  # (N,)\n",
    "    y_true = validation_set.classes                              # (N,)\n",
    "    y_pred = (y_prob >= 0.5).astype(int)                         # threshold @ 0.5\n",
    "\n",
    "    # Capture val_loss and Keras accuracy for the same validation set ---\n",
    "    validation_set.reset()                                       # reset again before evaluate\n",
    "    val_loss, val_acc = model.evaluate(validation_set, verbose=0) # loss & accuracy from the compiled metrics\n",
    "\n",
    "    # Compute metrics\n",
    "    prec = precision_score(y_true, y_pred, zero_division=0)\n",
    "    rec  = recall_score(y_true, y_pred, zero_division=0)\n",
    "    f1   = f1_score(y_true, y_pred, zero_division=0)\n",
    "    cm   = confusion_matrix(y_true, y_pred).tolist()\n",
    "\n",
    "    # --- Summary, CSV-ready ---\n",
    "    out = {\n",
    "        \"tag\": tag,                          # Unique ID\n",
    "        \"version\": version,\n",
    "        \"batch_size\": batch_size,\n",
    "        **cfg,                               # includes dropout, kernel_size, activation, optimizer\n",
    "        \"epochs_trained\": len(history.history[\"loss\"]),\n",
    "        \"val_loss\": float(val_loss),\n",
    "        \"val_accuracy\": float(val_acc),\n",
    "        \"val_precision\": float(prec),\n",
    "        \"val_recall\": float(rec),\n",
    "        \"val_f1\": float(f1),\n",
    "        \"confusion_matrix\": cm,\n",
    "    }\n",
    "\n",
    "    # Save Evaluation Pickle\n",
    "    joblib.dump(out, P[\"evaluation_pkl\"])\n",
    "\n",
    "    # Hand back the summary so the caller can append to a list/DataFrame\n",
    "    return out\n"
   ]
  },
  {
   "cell_type": "markdown",
   "id": "9be4aa28",
   "metadata": {},
   "source": [
    "### Execute Scenarios:"
   ]
  },
  {
   "cell_type": "code",
   "execution_count": 23,
   "id": "5c95fc86",
   "metadata": {},
   "outputs": [
    {
     "name": "stdout",
     "output_type": "stream",
     "text": [
      "\n",
      "=== [1/16] {'dropout': 0.5, 'kernel_size': 3, 'activation': 'relu', 'optimizer': 'adam'} ===\n"
     ]
    },
    {
     "name": "stderr",
     "output_type": "stream",
     "text": [
      "/Users/marcelldemeter/GIT/CodeInstitute/ci-p5-mildew-detector/mildew-env/lib/python3.12/site-packages/keras/src/layers/convolutional/base_conv.py:113: UserWarning: Do not pass an `input_shape`/`input_dim` argument to a layer. When using Sequential models, prefer using an `Input(shape)` object as the first layer in the model instead.\n",
      "  super().__init__(activity_regularizer=activity_regularizer, **kwargs)\n",
      "2025-10-12 01:20:55.308694: I metal_plugin/src/device/metal_device.cc:1154] Metal device set to: Apple M3 Pro\n",
      "2025-10-12 01:20:55.308737: I metal_plugin/src/device/metal_device.cc:296] systemMemory: 18.00 GB\n",
      "2025-10-12 01:20:55.308751: I metal_plugin/src/device/metal_device.cc:313] maxCacheSize: 6.66 GB\n",
      "2025-10-12 01:20:55.308772: I tensorflow/core/common_runtime/pluggable_device/pluggable_device_factory.cc:305] Could not identify NUMA node of platform GPU ID 0, defaulting to 0. Your kernel may not have been built with NUMA support.\n",
      "2025-10-12 01:20:55.308784: I tensorflow/core/common_runtime/pluggable_device/pluggable_device_factory.cc:271] Created TensorFlow device (/job:localhost/replica:0/task:0/device:GPU:0 with 0 MB memory) -> physical PluggableDevice (device: 0, name: METAL, pci bus id: <undefined>)\n",
      "/Users/marcelldemeter/GIT/CodeInstitute/ci-p5-mildew-detector/mildew-env/lib/python3.12/site-packages/keras/src/trainers/data_adapters/py_dataset_adapter.py:121: UserWarning: Your `PyDataset` class should call `super().__init__(**kwargs)` in its constructor. `**kwargs` can include `workers`, `use_multiprocessing`, `max_queue_size`. Do not pass these arguments to `fit()`, as they will be ignored.\n",
      "  self._warn_if_super_not_called()\n"
     ]
    },
    {
     "name": "stdout",
     "output_type": "stream",
     "text": [
      "Epoch 1/25\n"
     ]
    },
    {
     "name": "stderr",
     "output_type": "stream",
     "text": [
      "2025-10-12 01:20:56.011113: I tensorflow/core/grappler/optimizers/custom_graph_optimizer_registry.cc:117] Plugin optimizer for device_type GPU is enabled.\n"
     ]
    },
    {
     "name": "stdout",
     "output_type": "stream",
     "text": [
      "\n",
      "Epoch 1: val_accuracy improved from None to 0.50000, saving model to outputs/step_1/models/v1_bs16_k3_do0.5_act-relu_opt-adam_seed27.keras\n",
      "184/184 - 21s - 116ms/step - accuracy: 0.9609 - loss: 2.1693 - val_accuracy: 0.5000 - val_loss: 98.5428\n",
      "Epoch 2/25\n",
      "\n",
      "Epoch 2: val_accuracy did not improve from 0.50000\n",
      "184/184 - 18s - 96ms/step - accuracy: 0.9647 - loss: 3.9049 - val_accuracy: 0.5000 - val_loss: 74.7050\n",
      "Epoch 3/25\n",
      "\n",
      "Epoch 3: val_accuracy improved from 0.50000 to 0.52857, saving model to outputs/step_1/models/v1_bs16_k3_do0.5_act-relu_opt-adam_seed27.keras\n",
      "184/184 - 18s - 95ms/step - accuracy: 0.9698 - loss: 3.2349 - val_accuracy: 0.5286 - val_loss: 53.2930\n",
      "Epoch 4/25\n",
      "\n",
      "Epoch 4: val_accuracy improved from 0.52857 to 0.99048, saving model to outputs/step_1/models/v1_bs16_k3_do0.5_act-relu_opt-adam_seed27.keras\n",
      "184/184 - 18s - 99ms/step - accuracy: 0.9749 - loss: 3.6338 - val_accuracy: 0.9905 - val_loss: 1.1243\n",
      "Epoch 5/25\n",
      "\n",
      "Epoch 5: val_accuracy did not improve from 0.99048\n",
      "184/184 - 18s - 96ms/step - accuracy: 0.9844 - loss: 2.3772 - val_accuracy: 0.7524 - val_loss: 81.7844\n",
      "Epoch 6/25\n",
      "\n",
      "Epoch 6: val_accuracy did not improve from 0.99048\n",
      "184/184 - 18s - 95ms/step - accuracy: 0.9691 - loss: 5.9598 - val_accuracy: 0.5000 - val_loss: 1177.4047\n",
      "Epoch 7/25\n",
      "\n",
      "Epoch 7: val_accuracy improved from 0.99048 to 0.99524, saving model to outputs/step_1/models/v1_bs16_k3_do0.5_act-relu_opt-adam_seed27.keras\n",
      "184/184 - 18s - 96ms/step - accuracy: 0.9745 - loss: 5.2205 - val_accuracy: 0.9952 - val_loss: 0.7497\n",
      "Epoch 8/25\n",
      "\n",
      "Epoch 8: val_accuracy did not improve from 0.99524\n",
      "184/184 - 18s - 95ms/step - accuracy: 0.9878 - loss: 1.9142 - val_accuracy: 0.9595 - val_loss: 7.1457\n",
      "Epoch 9/25\n",
      "\n",
      "Epoch 9: val_accuracy did not improve from 0.99524\n",
      "184/184 - 17s - 95ms/step - accuracy: 0.9891 - loss: 2.7792 - val_accuracy: 0.5000 - val_loss: 504.2988\n",
      "Epoch 10/25\n",
      "\n",
      "Epoch 10: val_accuracy did not improve from 0.99524\n",
      "184/184 - 17s - 95ms/step - accuracy: 0.9891 - loss: 2.8989 - val_accuracy: 0.9833 - val_loss: 4.9716\n",
      "Epoch 11/25\n",
      "\n",
      "Epoch 11: val_accuracy did not improve from 0.99524\n",
      "184/184 - 18s - 95ms/step - accuracy: 0.9905 - loss: 1.7868 - val_accuracy: 0.9286 - val_loss: 15.7729\n",
      "Epoch 11: early stopping\n",
      "Restoring model weights from the end of the best epoch: 7.\n",
      "\n",
      "=== [2/16] {'dropout': 0.5, 'kernel_size': 3, 'activation': 'relu', 'optimizer': 'adamax'} ===\n",
      "Epoch 1/25\n"
     ]
    },
    {
     "name": "stderr",
     "output_type": "stream",
     "text": [
      "/Users/marcelldemeter/GIT/CodeInstitute/ci-p5-mildew-detector/mildew-env/lib/python3.12/site-packages/keras/src/layers/convolutional/base_conv.py:113: UserWarning: Do not pass an `input_shape`/`input_dim` argument to a layer. When using Sequential models, prefer using an `Input(shape)` object as the first layer in the model instead.\n",
      "  super().__init__(activity_regularizer=activity_regularizer, **kwargs)\n"
     ]
    },
    {
     "name": "stdout",
     "output_type": "stream",
     "text": [
      "\n",
      "Epoch 1: val_accuracy improved from None to 0.50714, saving model to outputs/step_1/models/v1_bs16_k3_do0.5_act-relu_opt-adamax_seed27.keras\n",
      "184/184 - 19s - 104ms/step - accuracy: 0.9691 - loss: 0.8529 - val_accuracy: 0.5071 - val_loss: 7.0196\n",
      "Epoch 2/25\n",
      "\n",
      "Epoch 2: val_accuracy improved from 0.50714 to 0.98095, saving model to outputs/step_1/models/v1_bs16_k3_do0.5_act-relu_opt-adamax_seed27.keras\n",
      "184/184 - 18s - 96ms/step - accuracy: 0.9912 - loss: 0.2363 - val_accuracy: 0.9810 - val_loss: 0.1839\n",
      "Epoch 3/25\n",
      "\n",
      "Epoch 3: val_accuracy improved from 0.98095 to 0.99762, saving model to outputs/step_1/models/v1_bs16_k3_do0.5_act-relu_opt-adamax_seed27.keras\n",
      "184/184 - 18s - 95ms/step - accuracy: 0.9881 - loss: 0.2390 - val_accuracy: 0.9976 - val_loss: 0.2299\n",
      "Epoch 4/25\n",
      "\n",
      "Epoch 4: val_accuracy did not improve from 0.99762\n",
      "184/184 - 17s - 95ms/step - accuracy: 0.9935 - loss: 0.1739 - val_accuracy: 0.9714 - val_loss: 2.3907\n",
      "Epoch 5/25\n",
      "\n",
      "Epoch 5: val_accuracy did not improve from 0.99762\n",
      "184/184 - 17s - 95ms/step - accuracy: 0.9915 - loss: 0.2562 - val_accuracy: 0.9976 - val_loss: 0.0328\n",
      "Epoch 6/25\n",
      "\n",
      "Epoch 6: val_accuracy did not improve from 0.99762\n",
      "184/184 - 17s - 95ms/step - accuracy: 0.9925 - loss: 0.2034 - val_accuracy: 0.9976 - val_loss: 0.0412\n",
      "Epoch 7/25\n",
      "\n",
      "Epoch 7: val_accuracy did not improve from 0.99762\n",
      "184/184 - 17s - 95ms/step - accuracy: 0.9942 - loss: 0.1622 - val_accuracy: 0.9976 - val_loss: 0.0195\n",
      "Epoch 7: early stopping\n",
      "Restoring model weights from the end of the best epoch: 3.\n",
      "\n",
      "=== [3/16] {'dropout': 0.5, 'kernel_size': 3, 'activation': 'elu', 'optimizer': 'adam'} ===\n",
      "Epoch 1/25\n"
     ]
    },
    {
     "name": "stderr",
     "output_type": "stream",
     "text": [
      "/Users/marcelldemeter/GIT/CodeInstitute/ci-p5-mildew-detector/mildew-env/lib/python3.12/site-packages/keras/src/layers/convolutional/base_conv.py:113: UserWarning: Do not pass an `input_shape`/`input_dim` argument to a layer. When using Sequential models, prefer using an `Input(shape)` object as the first layer in the model instead.\n",
      "  super().__init__(activity_regularizer=activity_regularizer, **kwargs)\n"
     ]
    },
    {
     "name": "stdout",
     "output_type": "stream",
     "text": [
      "\n",
      "Epoch 1: val_accuracy improved from None to 0.50000, saving model to outputs/step_1/models/v1_bs16_k3_do0.5_act-elu_opt-adam_seed27.keras\n",
      "184/184 - 28s - 152ms/step - accuracy: 0.9596 - loss: 0.8861 - val_accuracy: 0.5000 - val_loss: 50.2400\n",
      "Epoch 2/25\n",
      "\n",
      "Epoch 2: val_accuracy improved from 0.50000 to 0.56667, saving model to outputs/step_1/models/v1_bs16_k3_do0.5_act-elu_opt-adam_seed27.keras\n",
      "184/184 - 26s - 143ms/step - accuracy: 0.9745 - loss: 0.6091 - val_accuracy: 0.5667 - val_loss: 27.6659\n",
      "Epoch 3/25\n",
      "\n",
      "Epoch 3: val_accuracy improved from 0.56667 to 0.98095, saving model to outputs/step_1/models/v1_bs16_k3_do0.5_act-elu_opt-adam_seed27.keras\n",
      "184/184 - 26s - 143ms/step - accuracy: 0.9881 - loss: 0.1732 - val_accuracy: 0.9810 - val_loss: 0.2345\n",
      "Epoch 4/25\n",
      "\n",
      "Epoch 4: val_accuracy improved from 0.98095 to 0.98810, saving model to outputs/step_1/models/v1_bs16_k3_do0.5_act-elu_opt-adam_seed27.keras\n",
      "184/184 - 26s - 144ms/step - accuracy: 0.9840 - loss: 0.0874 - val_accuracy: 0.9881 - val_loss: 0.1337\n",
      "Epoch 5/25\n",
      "\n",
      "Epoch 5: val_accuracy did not improve from 0.98810\n",
      "184/184 - 26s - 144ms/step - accuracy: 0.9759 - loss: 0.1447 - val_accuracy: 0.9738 - val_loss: 0.1002\n",
      "Epoch 6/25\n",
      "\n",
      "Epoch 6: val_accuracy improved from 0.98810 to 0.99762, saving model to outputs/step_1/models/v1_bs16_k3_do0.5_act-elu_opt-adam_seed27.keras\n",
      "184/184 - 26s - 144ms/step - accuracy: 0.9861 - loss: 0.0549 - val_accuracy: 0.9976 - val_loss: 0.0648\n",
      "Epoch 7/25\n",
      "\n",
      "Epoch 7: val_accuracy did not improve from 0.99762\n",
      "184/184 - 27s - 146ms/step - accuracy: 0.9772 - loss: 0.1714 - val_accuracy: 0.9952 - val_loss: 0.0462\n",
      "Epoch 8/25\n",
      "\n",
      "Epoch 8: val_accuracy did not improve from 0.99762\n",
      "184/184 - 27s - 145ms/step - accuracy: 0.9823 - loss: 0.0866 - val_accuracy: 0.9952 - val_loss: 0.0208\n",
      "Epoch 9/25\n",
      "\n",
      "Epoch 9: val_accuracy did not improve from 0.99762\n",
      "184/184 - 27s - 146ms/step - accuracy: 0.9868 - loss: 0.0882 - val_accuracy: 0.9976 - val_loss: 0.0075\n",
      "Epoch 10/25\n",
      "\n",
      "Epoch 10: val_accuracy did not improve from 0.99762\n",
      "184/184 - 27s - 147ms/step - accuracy: 0.9888 - loss: 0.0521 - val_accuracy: 0.8786 - val_loss: 1.9130\n",
      "Epoch 10: early stopping\n",
      "Restoring model weights from the end of the best epoch: 6.\n",
      "\n",
      "=== [4/16] {'dropout': 0.5, 'kernel_size': 3, 'activation': 'elu', 'optimizer': 'adamax'} ===\n"
     ]
    },
    {
     "name": "stderr",
     "output_type": "stream",
     "text": [
      "/Users/marcelldemeter/GIT/CodeInstitute/ci-p5-mildew-detector/mildew-env/lib/python3.12/site-packages/keras/src/layers/convolutional/base_conv.py:113: UserWarning: Do not pass an `input_shape`/`input_dim` argument to a layer. When using Sequential models, prefer using an `Input(shape)` object as the first layer in the model instead.\n",
      "  super().__init__(activity_regularizer=activity_regularizer, **kwargs)\n"
     ]
    },
    {
     "name": "stdout",
     "output_type": "stream",
     "text": [
      "Epoch 1/25\n",
      "\n",
      "Epoch 1: val_accuracy improved from None to 0.50000, saving model to outputs/step_1/models/v1_bs16_k3_do0.5_act-elu_opt-adamax_seed27.keras\n",
      "184/184 - 29s - 155ms/step - accuracy: 0.9603 - loss: 0.4279 - val_accuracy: 0.5000 - val_loss: 7.2085\n",
      "Epoch 2/25\n",
      "\n",
      "Epoch 2: val_accuracy improved from 0.50000 to 0.79524, saving model to outputs/step_1/models/v1_bs16_k3_do0.5_act-elu_opt-adamax_seed27.keras\n",
      "184/184 - 27s - 148ms/step - accuracy: 0.9844 - loss: 0.0920 - val_accuracy: 0.7952 - val_loss: 0.7037\n",
      "Epoch 3/25\n",
      "\n",
      "Epoch 3: val_accuracy improved from 0.79524 to 0.99524, saving model to outputs/step_1/models/v1_bs16_k3_do0.5_act-elu_opt-adamax_seed27.keras\n",
      "184/184 - 27s - 148ms/step - accuracy: 0.9885 - loss: 0.0456 - val_accuracy: 0.9952 - val_loss: 0.0268\n",
      "Epoch 4/25\n",
      "\n",
      "Epoch 4: val_accuracy did not improve from 0.99524\n",
      "184/184 - 30s - 163ms/step - accuracy: 0.9895 - loss: 0.0534 - val_accuracy: 0.9857 - val_loss: 0.0467\n",
      "Epoch 5/25\n",
      "\n",
      "Epoch 5: val_accuracy did not improve from 0.99524\n",
      "184/184 - 36s - 196ms/step - accuracy: 0.9878 - loss: 0.0598 - val_accuracy: 0.9357 - val_loss: 0.3072\n",
      "Epoch 6/25\n",
      "\n",
      "Epoch 6: val_accuracy did not improve from 0.99524\n",
      "184/184 - 36s - 196ms/step - accuracy: 0.9908 - loss: 0.0469 - val_accuracy: 0.9762 - val_loss: 0.1889\n",
      "Epoch 7/25\n",
      "\n",
      "Epoch 7: val_accuracy did not improve from 0.99524\n",
      "184/184 - 36s - 195ms/step - accuracy: 0.9949 - loss: 0.0158 - val_accuracy: 0.9810 - val_loss: 0.1088\n",
      "Epoch 7: early stopping\n",
      "Restoring model weights from the end of the best epoch: 3.\n",
      "\n",
      "=== [5/16] {'dropout': 0.5, 'kernel_size': 5, 'activation': 'relu', 'optimizer': 'adam'} ===\n"
     ]
    },
    {
     "name": "stderr",
     "output_type": "stream",
     "text": [
      "/Users/marcelldemeter/GIT/CodeInstitute/ci-p5-mildew-detector/mildew-env/lib/python3.12/site-packages/keras/src/layers/convolutional/base_conv.py:113: UserWarning: Do not pass an `input_shape`/`input_dim` argument to a layer. When using Sequential models, prefer using an `Input(shape)` object as the first layer in the model instead.\n",
      "  super().__init__(activity_regularizer=activity_regularizer, **kwargs)\n"
     ]
    },
    {
     "name": "stdout",
     "output_type": "stream",
     "text": [
      "Epoch 1/25\n",
      "\n",
      "Epoch 1: val_accuracy improved from None to 0.93333, saving model to outputs/step_1/models/v1_bs16_k5_do0.5_act-relu_opt-adam_seed27.keras\n",
      "184/184 - 23s - 124ms/step - accuracy: 0.9497 - loss: 2.5112 - val_accuracy: 0.9333 - val_loss: 3.3989\n",
      "Epoch 2/25\n",
      "\n",
      "Epoch 2: val_accuracy did not improve from 0.93333\n",
      "184/184 - 21s - 115ms/step - accuracy: 0.9589 - loss: 5.0431 - val_accuracy: 0.7690 - val_loss: 69.0983\n",
      "Epoch 3/25\n",
      "\n",
      "Epoch 3: val_accuracy improved from 0.93333 to 0.95000, saving model to outputs/step_1/models/v1_bs16_k5_do0.5_act-relu_opt-adam_seed27.keras\n",
      "184/184 - 21s - 115ms/step - accuracy: 0.9677 - loss: 6.4857 - val_accuracy: 0.9500 - val_loss: 3.6701\n",
      "Epoch 4/25\n",
      "\n",
      "Epoch 4: val_accuracy did not improve from 0.95000\n",
      "184/184 - 21s - 115ms/step - accuracy: 0.9738 - loss: 7.0638 - val_accuracy: 0.5000 - val_loss: 794.3406\n",
      "Epoch 5/25\n",
      "\n",
      "Epoch 5: val_accuracy did not improve from 0.95000\n",
      "184/184 - 21s - 115ms/step - accuracy: 0.9796 - loss: 4.7621 - val_accuracy: 0.5619 - val_loss: 564.2319\n",
      "Epoch 6/25\n",
      "\n",
      "Epoch 6: val_accuracy did not improve from 0.95000\n",
      "184/184 - 21s - 115ms/step - accuracy: 0.9772 - loss: 5.9343 - val_accuracy: 0.8048 - val_loss: 81.0170\n",
      "Epoch 7/25\n",
      "\n",
      "Epoch 7: val_accuracy did not improve from 0.95000\n",
      "184/184 - 21s - 116ms/step - accuracy: 0.9715 - loss: 9.5603 - val_accuracy: 0.5238 - val_loss: 1090.2134\n",
      "Epoch 7: early stopping\n",
      "Restoring model weights from the end of the best epoch: 3.\n",
      "\n",
      "=== [6/16] {'dropout': 0.5, 'kernel_size': 5, 'activation': 'relu', 'optimizer': 'adamax'} ===\n"
     ]
    },
    {
     "name": "stderr",
     "output_type": "stream",
     "text": [
      "/Users/marcelldemeter/GIT/CodeInstitute/ci-p5-mildew-detector/mildew-env/lib/python3.12/site-packages/keras/src/layers/convolutional/base_conv.py:113: UserWarning: Do not pass an `input_shape`/`input_dim` argument to a layer. When using Sequential models, prefer using an `Input(shape)` object as the first layer in the model instead.\n",
      "  super().__init__(activity_regularizer=activity_regularizer, **kwargs)\n"
     ]
    },
    {
     "name": "stdout",
     "output_type": "stream",
     "text": [
      "Epoch 1/25\n",
      "\n",
      "Epoch 1: val_accuracy improved from None to 0.50000, saving model to outputs/step_1/models/v1_bs16_k5_do0.5_act-relu_opt-adamax_seed27.keras\n",
      "184/184 - 24s - 129ms/step - accuracy: 0.9664 - loss: 0.8680 - val_accuracy: 0.5000 - val_loss: 36.1587\n",
      "Epoch 2/25\n",
      "\n",
      "Epoch 2: val_accuracy improved from 0.50000 to 0.83333, saving model to outputs/step_1/models/v1_bs16_k5_do0.5_act-relu_opt-adamax_seed27.keras\n",
      "184/184 - 22s - 119ms/step - accuracy: 0.9786 - loss: 0.5600 - val_accuracy: 0.8333 - val_loss: 2.1300\n",
      "Epoch 3/25\n",
      "\n",
      "Epoch 3: val_accuracy did not improve from 0.83333\n",
      "184/184 - 22s - 117ms/step - accuracy: 0.9864 - loss: 0.5028 - val_accuracy: 0.6619 - val_loss: 8.4466\n",
      "Epoch 4/25\n",
      "\n",
      "Epoch 4: val_accuracy improved from 0.83333 to 0.96190, saving model to outputs/step_1/models/v1_bs16_k5_do0.5_act-relu_opt-adamax_seed27.keras\n",
      "184/184 - 21s - 115ms/step - accuracy: 0.9908 - loss: 0.2673 - val_accuracy: 0.9619 - val_loss: 0.4820\n",
      "Epoch 5/25\n",
      "\n",
      "Epoch 5: val_accuracy improved from 0.96190 to 0.98571, saving model to outputs/step_1/models/v1_bs16_k5_do0.5_act-relu_opt-adamax_seed27.keras\n",
      "184/184 - 21s - 115ms/step - accuracy: 0.9847 - loss: 0.4174 - val_accuracy: 0.9857 - val_loss: 0.1816\n",
      "Epoch 6/25\n",
      "\n",
      "Epoch 6: val_accuracy did not improve from 0.98571\n",
      "184/184 - 21s - 115ms/step - accuracy: 0.9871 - loss: 0.3724 - val_accuracy: 0.7714 - val_loss: 6.2732\n",
      "Epoch 7/25\n",
      "\n",
      "Epoch 7: val_accuracy did not improve from 0.98571\n",
      "184/184 - 21s - 115ms/step - accuracy: 0.9891 - loss: 0.3982 - val_accuracy: 0.9643 - val_loss: 2.2156\n",
      "Epoch 8/25\n",
      "\n",
      "Epoch 8: val_accuracy did not improve from 0.98571\n",
      "184/184 - 21s - 115ms/step - accuracy: 0.9888 - loss: 0.3784 - val_accuracy: 0.6429 - val_loss: 16.2009\n",
      "Epoch 9/25\n",
      "\n",
      "Epoch 9: val_accuracy improved from 0.98571 to 0.99286, saving model to outputs/step_1/models/v1_bs16_k5_do0.5_act-relu_opt-adamax_seed27.keras\n",
      "184/184 - 21s - 116ms/step - accuracy: 0.9823 - loss: 0.8860 - val_accuracy: 0.9929 - val_loss: 1.1105\n",
      "Epoch 10/25\n",
      "\n",
      "Epoch 10: val_accuracy did not improve from 0.99286\n",
      "184/184 - 21s - 115ms/step - accuracy: 0.9827 - loss: 1.0185 - val_accuracy: 0.9714 - val_loss: 1.4333\n",
      "Epoch 11/25\n",
      "\n",
      "Epoch 11: val_accuracy did not improve from 0.99286\n",
      "184/184 - 21s - 117ms/step - accuracy: 0.9803 - loss: 1.9105 - val_accuracy: 0.9095 - val_loss: 11.6230\n",
      "Epoch 12/25\n",
      "\n",
      "Epoch 12: val_accuracy did not improve from 0.99286\n",
      "184/184 - 21s - 115ms/step - accuracy: 0.9796 - loss: 2.1459 - val_accuracy: 0.9881 - val_loss: 0.3684\n",
      "Epoch 13/25\n",
      "\n",
      "Epoch 13: val_accuracy did not improve from 0.99286\n",
      "184/184 - 21s - 117ms/step - accuracy: 0.9759 - loss: 3.1322 - val_accuracy: 0.9929 - val_loss: 0.6293\n",
      "Epoch 13: early stopping\n",
      "Restoring model weights from the end of the best epoch: 9.\n",
      "\n",
      "=== [7/16] {'dropout': 0.5, 'kernel_size': 5, 'activation': 'elu', 'optimizer': 'adam'} ===\n"
     ]
    },
    {
     "name": "stderr",
     "output_type": "stream",
     "text": [
      "/Users/marcelldemeter/GIT/CodeInstitute/ci-p5-mildew-detector/mildew-env/lib/python3.12/site-packages/keras/src/layers/convolutional/base_conv.py:113: UserWarning: Do not pass an `input_shape`/`input_dim` argument to a layer. When using Sequential models, prefer using an `Input(shape)` object as the first layer in the model instead.\n",
      "  super().__init__(activity_regularizer=activity_regularizer, **kwargs)\n"
     ]
    },
    {
     "name": "stdout",
     "output_type": "stream",
     "text": [
      "Epoch 1/25\n",
      "\n",
      "Epoch 1: val_accuracy improved from None to 0.71429, saving model to outputs/step_1/models/v1_bs16_k5_do0.5_act-elu_opt-adam_seed27.keras\n",
      "184/184 - 33s - 179ms/step - accuracy: 0.9494 - loss: 0.7582 - val_accuracy: 0.7143 - val_loss: 2.7947\n",
      "Epoch 2/25\n",
      "\n",
      "Epoch 2: val_accuracy improved from 0.71429 to 0.94286, saving model to outputs/step_1/models/v1_bs16_k5_do0.5_act-elu_opt-adam_seed27.keras\n",
      "184/184 - 31s - 167ms/step - accuracy: 0.9721 - loss: 0.2371 - val_accuracy: 0.9429 - val_loss: 0.1007\n",
      "Epoch 3/25\n",
      "\n",
      "Epoch 3: val_accuracy did not improve from 0.94286\n",
      "184/184 - 32s - 172ms/step - accuracy: 0.9728 - loss: 0.1169 - val_accuracy: 0.8643 - val_loss: 0.4610\n",
      "Epoch 4/25\n",
      "\n",
      "Epoch 4: val_accuracy improved from 0.94286 to 0.95952, saving model to outputs/step_1/models/v1_bs16_k5_do0.5_act-elu_opt-adam_seed27.keras\n",
      "184/184 - 32s - 173ms/step - accuracy: 0.9793 - loss: 0.1293 - val_accuracy: 0.9595 - val_loss: 1.0054\n",
      "Epoch 5/25\n",
      "\n",
      "Epoch 5: val_accuracy improved from 0.95952 to 0.99286, saving model to outputs/step_1/models/v1_bs16_k5_do0.5_act-elu_opt-adam_seed27.keras\n",
      "184/184 - 31s - 168ms/step - accuracy: 0.9738 - loss: 0.2139 - val_accuracy: 0.9929 - val_loss: 0.0238\n",
      "Epoch 6/25\n",
      "\n",
      "Epoch 6: val_accuracy did not improve from 0.99286\n",
      "184/184 - 32s - 176ms/step - accuracy: 0.9766 - loss: 0.0960 - val_accuracy: 0.7881 - val_loss: 4.7860\n",
      "Epoch 7/25\n",
      "\n",
      "Epoch 7: val_accuracy did not improve from 0.99286\n",
      "184/184 - 32s - 176ms/step - accuracy: 0.9749 - loss: 0.1810 - val_accuracy: 0.9810 - val_loss: 0.0681\n",
      "Epoch 8/25\n",
      "\n",
      "Epoch 8: val_accuracy did not improve from 0.99286\n",
      "184/184 - 32s - 175ms/step - accuracy: 0.9851 - loss: 0.0805 - val_accuracy: 0.9905 - val_loss: 0.1610\n",
      "Epoch 9/25\n",
      "\n",
      "Epoch 9: val_accuracy did not improve from 0.99286\n",
      "184/184 - 31s - 167ms/step - accuracy: 0.9823 - loss: 0.0700 - val_accuracy: 0.9071 - val_loss: 0.4432\n",
      "Epoch 9: early stopping\n",
      "Restoring model weights from the end of the best epoch: 5.\n",
      "\n",
      "=== [8/16] {'dropout': 0.5, 'kernel_size': 5, 'activation': 'elu', 'optimizer': 'adamax'} ===\n",
      "Epoch 1/25\n"
     ]
    },
    {
     "name": "stderr",
     "output_type": "stream",
     "text": [
      "/Users/marcelldemeter/GIT/CodeInstitute/ci-p5-mildew-detector/mildew-env/lib/python3.12/site-packages/keras/src/layers/convolutional/base_conv.py:113: UserWarning: Do not pass an `input_shape`/`input_dim` argument to a layer. When using Sequential models, prefer using an `Input(shape)` object as the first layer in the model instead.\n",
      "  super().__init__(activity_regularizer=activity_regularizer, **kwargs)\n"
     ]
    },
    {
     "name": "stdout",
     "output_type": "stream",
     "text": [
      "\n",
      "Epoch 1: val_accuracy improved from None to 0.50000, saving model to outputs/step_1/models/v1_bs16_k5_do0.5_act-elu_opt-adamax_seed27.keras\n",
      "184/184 - 33s - 179ms/step - accuracy: 0.9633 - loss: 0.3523 - val_accuracy: 0.5000 - val_loss: 17.2157\n",
      "Epoch 2/25\n",
      "\n",
      "Epoch 2: val_accuracy did not improve from 0.50000\n",
      "184/184 - 31s - 170ms/step - accuracy: 0.9745 - loss: 0.0918 - val_accuracy: 0.5000 - val_loss: 21.7500\n",
      "Epoch 3/25\n",
      "\n",
      "Epoch 3: val_accuracy improved from 0.50000 to 0.96905, saving model to outputs/step_1/models/v1_bs16_k5_do0.5_act-elu_opt-adamax_seed27.keras\n",
      "184/184 - 32s - 176ms/step - accuracy: 0.9874 - loss: 0.0567 - val_accuracy: 0.9690 - val_loss: 0.0714\n",
      "Epoch 4/25\n",
      "\n",
      "Epoch 4: val_accuracy improved from 0.96905 to 0.97857, saving model to outputs/step_1/models/v1_bs16_k5_do0.5_act-elu_opt-adamax_seed27.keras\n",
      "184/184 - 31s - 171ms/step - accuracy: 0.9868 - loss: 0.0526 - val_accuracy: 0.9786 - val_loss: 0.0588\n",
      "Epoch 5/25\n",
      "\n",
      "Epoch 5: val_accuracy improved from 0.97857 to 0.99286, saving model to outputs/step_1/models/v1_bs16_k5_do0.5_act-elu_opt-adamax_seed27.keras\n",
      "184/184 - 32s - 172ms/step - accuracy: 0.9878 - loss: 0.0439 - val_accuracy: 0.9929 - val_loss: 0.0344\n",
      "Epoch 6/25\n",
      "\n",
      "Epoch 6: val_accuracy did not improve from 0.99286\n",
      "184/184 - 33s - 178ms/step - accuracy: 0.9834 - loss: 0.0845 - val_accuracy: 0.9786 - val_loss: 0.0899\n",
      "Epoch 7/25\n",
      "\n",
      "Epoch 7: val_accuracy did not improve from 0.99286\n",
      "184/184 - 31s - 170ms/step - accuracy: 0.9915 - loss: 0.0252 - val_accuracy: 0.9881 - val_loss: 0.0279\n",
      "Epoch 8/25\n",
      "\n",
      "Epoch 8: val_accuracy improved from 0.99286 to 1.00000, saving model to outputs/step_1/models/v1_bs16_k5_do0.5_act-elu_opt-adamax_seed27.keras\n",
      "184/184 - 31s - 171ms/step - accuracy: 0.9901 - loss: 0.0407 - val_accuracy: 1.0000 - val_loss: 0.0026\n",
      "Epoch 9/25\n",
      "\n",
      "Epoch 9: val_accuracy did not improve from 1.00000\n",
      "184/184 - 40s - 218ms/step - accuracy: 0.9908 - loss: 0.0497 - val_accuracy: 0.9905 - val_loss: 0.0160\n",
      "Epoch 10/25\n",
      "\n",
      "Epoch 10: val_accuracy did not improve from 1.00000\n",
      "184/184 - 42s - 229ms/step - accuracy: 0.9922 - loss: 0.0383 - val_accuracy: 0.9524 - val_loss: 0.2355\n",
      "Epoch 11/25\n",
      "\n",
      "Epoch 11: val_accuracy did not improve from 1.00000\n",
      "184/184 - 42s - 228ms/step - accuracy: 0.9935 - loss: 0.0290 - val_accuracy: 1.0000 - val_loss: 0.0035\n",
      "Epoch 12/25\n",
      "\n",
      "Epoch 12: val_accuracy did not improve from 1.00000\n",
      "184/184 - 42s - 230ms/step - accuracy: 0.9932 - loss: 0.0347 - val_accuracy: 0.9667 - val_loss: 0.1290\n",
      "Epoch 12: early stopping\n",
      "Restoring model weights from the end of the best epoch: 8.\n",
      "\n",
      "=== [9/16] {'dropout': 0.3, 'kernel_size': 3, 'activation': 'relu', 'optimizer': 'adam'} ===\n"
     ]
    },
    {
     "name": "stderr",
     "output_type": "stream",
     "text": [
      "/Users/marcelldemeter/GIT/CodeInstitute/ci-p5-mildew-detector/mildew-env/lib/python3.12/site-packages/keras/src/layers/convolutional/base_conv.py:113: UserWarning: Do not pass an `input_shape`/`input_dim` argument to a layer. When using Sequential models, prefer using an `Input(shape)` object as the first layer in the model instead.\n",
      "  super().__init__(activity_regularizer=activity_regularizer, **kwargs)\n"
     ]
    },
    {
     "name": "stdout",
     "output_type": "stream",
     "text": [
      "Epoch 1/25\n",
      "\n",
      "Epoch 1: val_accuracy improved from None to 0.50000, saving model to outputs/step_1/models/v1_bs16_k3_do0.3_act-relu_opt-adam_seed27.keras\n",
      "184/184 - 19s - 104ms/step - accuracy: 0.9640 - loss: 2.0596 - val_accuracy: 0.5000 - val_loss: 30.3127\n",
      "Epoch 2/25\n",
      "\n",
      "Epoch 2: val_accuracy improved from 0.50000 to 0.53095, saving model to outputs/step_1/models/v1_bs16_k3_do0.3_act-relu_opt-adam_seed27.keras\n",
      "184/184 - 18s - 95ms/step - accuracy: 0.9691 - loss: 2.7671 - val_accuracy: 0.5310 - val_loss: 52.5829\n",
      "Epoch 3/25\n",
      "\n",
      "Epoch 3: val_accuracy improved from 0.53095 to 0.61667, saving model to outputs/step_1/models/v1_bs16_k3_do0.3_act-relu_opt-adam_seed27.keras\n",
      "184/184 - 18s - 99ms/step - accuracy: 0.9779 - loss: 3.1053 - val_accuracy: 0.6167 - val_loss: 38.9809\n",
      "Epoch 4/25\n",
      "\n",
      "Epoch 4: val_accuracy did not improve from 0.61667\n",
      "184/184 - 18s - 97ms/step - accuracy: 0.9715 - loss: 5.6644 - val_accuracy: 0.4119 - val_loss: 211.3479\n",
      "Epoch 5/25\n",
      "\n",
      "Epoch 5: val_accuracy improved from 0.61667 to 0.93571, saving model to outputs/step_1/models/v1_bs16_k3_do0.3_act-relu_opt-adam_seed27.keras\n",
      "184/184 - 18s - 97ms/step - accuracy: 0.9545 - loss: 12.5102 - val_accuracy: 0.9357 - val_loss: 23.4934\n",
      "Epoch 6/25\n",
      "\n",
      "Epoch 6: val_accuracy did not improve from 0.93571\n",
      "184/184 - 18s - 100ms/step - accuracy: 0.9796 - loss: 7.2039 - val_accuracy: 0.7833 - val_loss: 61.2354\n",
      "Epoch 7/25\n",
      "\n",
      "Epoch 7: val_accuracy improved from 0.93571 to 0.96429, saving model to outputs/step_1/models/v1_bs16_k3_do0.3_act-relu_opt-adam_seed27.keras\n",
      "184/184 - 18s - 98ms/step - accuracy: 0.9840 - loss: 5.1793 - val_accuracy: 0.9643 - val_loss: 4.5767\n",
      "Epoch 8/25\n",
      "\n",
      "Epoch 8: val_accuracy improved from 0.96429 to 0.99762, saving model to outputs/step_1/models/v1_bs16_k3_do0.3_act-relu_opt-adam_seed27.keras\n",
      "184/184 - 18s - 97ms/step - accuracy: 0.9868 - loss: 4.5644 - val_accuracy: 0.9976 - val_loss: 0.2331\n",
      "Epoch 9/25\n",
      "\n",
      "Epoch 9: val_accuracy did not improve from 0.99762\n",
      "184/184 - 18s - 98ms/step - accuracy: 0.9851 - loss: 5.6540 - val_accuracy: 0.9976 - val_loss: 0.2850\n",
      "Epoch 10/25\n",
      "\n",
      "Epoch 10: val_accuracy did not improve from 0.99762\n",
      "184/184 - 19s - 101ms/step - accuracy: 0.9905 - loss: 3.5401 - val_accuracy: 0.9857 - val_loss: 6.3261\n",
      "Epoch 11/25\n",
      "\n",
      "Epoch 11: val_accuracy did not improve from 0.99762\n",
      "184/184 - 19s - 102ms/step - accuracy: 0.9803 - loss: 6.4594 - val_accuracy: 0.5143 - val_loss: 203.2510\n",
      "Epoch 12/25\n",
      "\n",
      "Epoch 12: val_accuracy did not improve from 0.99762\n",
      "184/184 - 19s - 101ms/step - accuracy: 0.9840 - loss: 6.9153 - val_accuracy: 0.9048 - val_loss: 43.4435\n",
      "Epoch 12: early stopping\n",
      "Restoring model weights from the end of the best epoch: 8.\n",
      "\n",
      "=== [10/16] {'dropout': 0.3, 'kernel_size': 3, 'activation': 'relu', 'optimizer': 'adamax'} ===\n"
     ]
    },
    {
     "name": "stderr",
     "output_type": "stream",
     "text": [
      "/Users/marcelldemeter/GIT/CodeInstitute/ci-p5-mildew-detector/mildew-env/lib/python3.12/site-packages/keras/src/layers/convolutional/base_conv.py:113: UserWarning: Do not pass an `input_shape`/`input_dim` argument to a layer. When using Sequential models, prefer using an `Input(shape)` object as the first layer in the model instead.\n",
      "  super().__init__(activity_regularizer=activity_regularizer, **kwargs)\n"
     ]
    },
    {
     "name": "stdout",
     "output_type": "stream",
     "text": [
      "Epoch 1/25\n",
      "\n",
      "Epoch 1: val_accuracy improved from None to 0.50000, saving model to outputs/step_1/models/v1_bs16_k3_do0.3_act-relu_opt-adamax_seed27.keras\n",
      "184/184 - 20s - 109ms/step - accuracy: 0.9840 - loss: 0.5318 - val_accuracy: 0.5000 - val_loss: 31.3158\n",
      "Epoch 2/25\n",
      "\n",
      "Epoch 2: val_accuracy improved from 0.50000 to 0.79524, saving model to outputs/step_1/models/v1_bs16_k3_do0.3_act-relu_opt-adamax_seed27.keras\n",
      "184/184 - 18s - 96ms/step - accuracy: 0.9874 - loss: 0.4558 - val_accuracy: 0.7952 - val_loss: 3.4249\n",
      "Epoch 3/25\n",
      "\n",
      "Epoch 3: val_accuracy improved from 0.79524 to 0.94286, saving model to outputs/step_1/models/v1_bs16_k3_do0.3_act-relu_opt-adamax_seed27.keras\n",
      "184/184 - 18s - 96ms/step - accuracy: 0.9901 - loss: 0.4584 - val_accuracy: 0.9429 - val_loss: 1.1996\n",
      "Epoch 4/25\n",
      "\n",
      "Epoch 4: val_accuracy improved from 0.94286 to 0.99048, saving model to outputs/step_1/models/v1_bs16_k3_do0.3_act-relu_opt-adamax_seed27.keras\n",
      "184/184 - 18s - 96ms/step - accuracy: 0.9898 - loss: 0.4231 - val_accuracy: 0.9905 - val_loss: 0.6001\n",
      "Epoch 5/25\n",
      "\n",
      "Epoch 5: val_accuracy improved from 0.99048 to 0.99762, saving model to outputs/step_1/models/v1_bs16_k3_do0.3_act-relu_opt-adamax_seed27.keras\n",
      "184/184 - 18s - 95ms/step - accuracy: 0.9952 - loss: 0.1433 - val_accuracy: 0.9976 - val_loss: 0.0390\n",
      "Epoch 6/25\n",
      "\n",
      "Epoch 6: val_accuracy did not improve from 0.99762\n",
      "184/184 - 17s - 95ms/step - accuracy: 0.9922 - loss: 0.2157 - val_accuracy: 0.9929 - val_loss: 0.2196\n",
      "Epoch 7/25\n",
      "\n",
      "Epoch 7: val_accuracy did not improve from 0.99762\n",
      "184/184 - 17s - 94ms/step - accuracy: 0.9881 - loss: 0.3806 - val_accuracy: 0.9929 - val_loss: 0.1483\n",
      "Epoch 8/25\n",
      "\n",
      "Epoch 8: val_accuracy did not improve from 0.99762\n",
      "184/184 - 17s - 94ms/step - accuracy: 0.9915 - loss: 0.4899 - val_accuracy: 0.9952 - val_loss: 0.4649\n",
      "Epoch 9/25\n",
      "\n",
      "Epoch 9: val_accuracy did not improve from 0.99762\n",
      "184/184 - 17s - 94ms/step - accuracy: 0.9901 - loss: 0.5090 - val_accuracy: 0.9929 - val_loss: 0.2104\n",
      "Epoch 9: early stopping\n",
      "Restoring model weights from the end of the best epoch: 5.\n",
      "\n",
      "=== [11/16] {'dropout': 0.3, 'kernel_size': 3, 'activation': 'elu', 'optimizer': 'adam'} ===\n"
     ]
    },
    {
     "name": "stderr",
     "output_type": "stream",
     "text": [
      "/Users/marcelldemeter/GIT/CodeInstitute/ci-p5-mildew-detector/mildew-env/lib/python3.12/site-packages/keras/src/layers/convolutional/base_conv.py:113: UserWarning: Do not pass an `input_shape`/`input_dim` argument to a layer. When using Sequential models, prefer using an `Input(shape)` object as the first layer in the model instead.\n",
      "  super().__init__(activity_regularizer=activity_regularizer, **kwargs)\n"
     ]
    },
    {
     "name": "stdout",
     "output_type": "stream",
     "text": [
      "Epoch 1/25\n",
      "\n",
      "Epoch 1: val_accuracy improved from None to 0.50000, saving model to outputs/step_1/models/v1_bs16_k3_do0.3_act-elu_opt-adam_seed27.keras\n",
      "184/184 - 31s - 170ms/step - accuracy: 0.9664 - loss: 0.6007 - val_accuracy: 0.5000 - val_loss: 94.0794\n",
      "Epoch 2/25\n",
      "\n",
      "Epoch 2: val_accuracy improved from 0.50000 to 0.50952, saving model to outputs/step_1/models/v1_bs16_k3_do0.3_act-elu_opt-adam_seed27.keras\n",
      "184/184 - 38s - 207ms/step - accuracy: 0.9806 - loss: 0.3429 - val_accuracy: 0.5095 - val_loss: 38.0987\n",
      "Epoch 3/25\n",
      "\n",
      "Epoch 3: val_accuracy improved from 0.50952 to 0.76429, saving model to outputs/step_1/models/v1_bs16_k3_do0.3_act-elu_opt-adam_seed27.keras\n",
      "184/184 - 37s - 202ms/step - accuracy: 0.9854 - loss: 0.0879 - val_accuracy: 0.7643 - val_loss: 6.9428\n",
      "Epoch 4/25\n",
      "\n",
      "Epoch 4: val_accuracy did not improve from 0.76429\n",
      "184/184 - 37s - 201ms/step - accuracy: 0.9837 - loss: 0.1002 - val_accuracy: 0.5071 - val_loss: 45.5731\n",
      "Epoch 5/25\n",
      "\n",
      "Epoch 5: val_accuracy improved from 0.76429 to 0.98333, saving model to outputs/step_1/models/v1_bs16_k3_do0.3_act-elu_opt-adam_seed27.keras\n",
      "184/184 - 37s - 200ms/step - accuracy: 0.9834 - loss: 0.0957 - val_accuracy: 0.9833 - val_loss: 0.1575\n",
      "Epoch 6/25\n",
      "\n",
      "Epoch 6: val_accuracy did not improve from 0.98333\n",
      "184/184 - 37s - 203ms/step - accuracy: 0.9925 - loss: 0.0183 - val_accuracy: 0.9214 - val_loss: 0.7794\n",
      "Epoch 7/25\n",
      "\n",
      "Epoch 7: val_accuracy did not improve from 0.98333\n",
      "184/184 - 37s - 199ms/step - accuracy: 0.9905 - loss: 0.0438 - val_accuracy: 0.9214 - val_loss: 0.4570\n",
      "Epoch 8/25\n",
      "\n",
      "Epoch 8: val_accuracy did not improve from 0.98333\n",
      "184/184 - 37s - 200ms/step - accuracy: 0.9817 - loss: 0.0929 - val_accuracy: 0.9690 - val_loss: 0.1975\n",
      "Epoch 9/25\n",
      "\n",
      "Epoch 9: val_accuracy did not improve from 0.98333\n",
      "184/184 - 36s - 198ms/step - accuracy: 0.9912 - loss: 0.0341 - val_accuracy: 0.9548 - val_loss: 0.1547\n",
      "Epoch 9: early stopping\n",
      "Restoring model weights from the end of the best epoch: 5.\n",
      "\n",
      "=== [12/16] {'dropout': 0.3, 'kernel_size': 3, 'activation': 'elu', 'optimizer': 'adamax'} ===\n",
      "Epoch 1/25\n"
     ]
    },
    {
     "name": "stderr",
     "output_type": "stream",
     "text": [
      "/Users/marcelldemeter/GIT/CodeInstitute/ci-p5-mildew-detector/mildew-env/lib/python3.12/site-packages/keras/src/layers/convolutional/base_conv.py:113: UserWarning: Do not pass an `input_shape`/`input_dim` argument to a layer. When using Sequential models, prefer using an `Input(shape)` object as the first layer in the model instead.\n",
      "  super().__init__(activity_regularizer=activity_regularizer, **kwargs)\n"
     ]
    },
    {
     "name": "stdout",
     "output_type": "stream",
     "text": [
      "\n",
      "Epoch 1: val_accuracy improved from None to 0.50000, saving model to outputs/step_1/models/v1_bs16_k3_do0.3_act-elu_opt-adamax_seed27.keras\n",
      "184/184 - 31s - 166ms/step - accuracy: 0.9671 - loss: 0.4044 - val_accuracy: 0.5000 - val_loss: 29.5416\n",
      "Epoch 2/25\n",
      "\n",
      "Epoch 2: val_accuracy improved from 0.50000 to 0.55714, saving model to outputs/step_1/models/v1_bs16_k3_do0.3_act-elu_opt-adamax_seed27.keras\n",
      "184/184 - 36s - 198ms/step - accuracy: 0.9861 - loss: 0.0493 - val_accuracy: 0.5571 - val_loss: 10.0740\n",
      "Epoch 3/25\n",
      "\n",
      "Epoch 3: val_accuracy improved from 0.55714 to 0.99762, saving model to outputs/step_1/models/v1_bs16_k3_do0.3_act-elu_opt-adamax_seed27.keras\n",
      "184/184 - 37s - 200ms/step - accuracy: 0.9878 - loss: 0.0590 - val_accuracy: 0.9976 - val_loss: 0.0202\n",
      "Epoch 4/25\n",
      "\n",
      "Epoch 4: val_accuracy did not improve from 0.99762\n",
      "184/184 - 36s - 198ms/step - accuracy: 0.9929 - loss: 0.0264 - val_accuracy: 0.9881 - val_loss: 0.0313\n",
      "Epoch 5/25\n",
      "\n",
      "Epoch 5: val_accuracy did not improve from 0.99762\n",
      "184/184 - 36s - 196ms/step - accuracy: 0.9929 - loss: 0.0279 - val_accuracy: 0.9976 - val_loss: 0.0066\n",
      "Epoch 6/25\n",
      "\n",
      "Epoch 6: val_accuracy did not improve from 0.99762\n",
      "184/184 - 37s - 200ms/step - accuracy: 0.9946 - loss: 0.0233 - val_accuracy: 0.9929 - val_loss: 0.0299\n",
      "Epoch 7/25\n",
      "\n",
      "Epoch 7: val_accuracy improved from 0.99762 to 1.00000, saving model to outputs/step_1/models/v1_bs16_k3_do0.3_act-elu_opt-adamax_seed27.keras\n",
      "184/184 - 36s - 197ms/step - accuracy: 0.9925 - loss: 0.0268 - val_accuracy: 1.0000 - val_loss: 9.6494e-04\n",
      "Epoch 8/25\n",
      "\n",
      "Epoch 8: val_accuracy did not improve from 1.00000\n",
      "184/184 - 36s - 197ms/step - accuracy: 0.9939 - loss: 0.0209 - val_accuracy: 1.0000 - val_loss: 5.9135e-04\n",
      "Epoch 9/25\n",
      "\n",
      "Epoch 9: val_accuracy did not improve from 1.00000\n",
      "184/184 - 36s - 197ms/step - accuracy: 0.9932 - loss: 0.0233 - val_accuracy: 0.9976 - val_loss: 0.0026\n",
      "Epoch 10/25\n",
      "\n",
      "Epoch 10: val_accuracy did not improve from 1.00000\n",
      "184/184 - 38s - 206ms/step - accuracy: 0.9946 - loss: 0.0193 - val_accuracy: 1.0000 - val_loss: 7.8691e-04\n",
      "Epoch 11/25\n",
      "\n",
      "Epoch 11: val_accuracy did not improve from 1.00000\n",
      "184/184 - 38s - 205ms/step - accuracy: 0.9959 - loss: 0.0124 - val_accuracy: 0.9976 - val_loss: 0.0029\n",
      "Epoch 11: early stopping\n",
      "Restoring model weights from the end of the best epoch: 7.\n",
      "\n",
      "=== [13/16] {'dropout': 0.3, 'kernel_size': 5, 'activation': 'relu', 'optimizer': 'adam'} ===\n"
     ]
    },
    {
     "name": "stderr",
     "output_type": "stream",
     "text": [
      "/Users/marcelldemeter/GIT/CodeInstitute/ci-p5-mildew-detector/mildew-env/lib/python3.12/site-packages/keras/src/layers/convolutional/base_conv.py:113: UserWarning: Do not pass an `input_shape`/`input_dim` argument to a layer. When using Sequential models, prefer using an `Input(shape)` object as the first layer in the model instead.\n",
      "  super().__init__(activity_regularizer=activity_regularizer, **kwargs)\n"
     ]
    },
    {
     "name": "stdout",
     "output_type": "stream",
     "text": [
      "Epoch 1/25\n",
      "\n",
      "Epoch 1: val_accuracy improved from None to 0.50000, saving model to outputs/step_1/models/v1_bs16_k5_do0.3_act-relu_opt-adam_seed27.keras\n",
      "184/184 - 23s - 125ms/step - accuracy: 0.9501 - loss: 4.7616 - val_accuracy: 0.5000 - val_loss: 101.3485\n",
      "Epoch 2/25\n",
      "\n",
      "Epoch 2: val_accuracy improved from 0.50000 to 0.90714, saving model to outputs/step_1/models/v1_bs16_k5_do0.3_act-relu_opt-adam_seed27.keras\n",
      "184/184 - 21s - 117ms/step - accuracy: 0.9643 - loss: 3.0808 - val_accuracy: 0.9071 - val_loss: 6.3396\n",
      "Epoch 3/25\n",
      "\n",
      "Epoch 3: val_accuracy did not improve from 0.90714\n",
      "184/184 - 21s - 116ms/step - accuracy: 0.9674 - loss: 4.2983 - val_accuracy: 0.8643 - val_loss: 7.7955\n",
      "Epoch 4/25\n",
      "\n",
      "Epoch 4: val_accuracy did not improve from 0.90714\n",
      "184/184 - 21s - 117ms/step - accuracy: 0.9745 - loss: 4.2064 - val_accuracy: 0.6524 - val_loss: 132.6591\n",
      "Epoch 5/25\n",
      "\n",
      "Epoch 5: val_accuracy did not improve from 0.90714\n",
      "184/184 - 22s - 118ms/step - accuracy: 0.9834 - loss: 3.1011 - val_accuracy: 0.4905 - val_loss: 839.4417\n",
      "Epoch 6/25\n",
      "\n",
      "Epoch 6: val_accuracy did not improve from 0.90714\n",
      "184/184 - 22s - 117ms/step - accuracy: 0.9671 - loss: 5.4536 - val_accuracy: 0.5381 - val_loss: 199.3748\n",
      "Epoch 6: early stopping\n",
      "Restoring model weights from the end of the best epoch: 2.\n",
      "\n",
      "=== [14/16] {'dropout': 0.3, 'kernel_size': 5, 'activation': 'relu', 'optimizer': 'adamax'} ===\n"
     ]
    },
    {
     "name": "stderr",
     "output_type": "stream",
     "text": [
      "/Users/marcelldemeter/GIT/CodeInstitute/ci-p5-mildew-detector/mildew-env/lib/python3.12/site-packages/keras/src/layers/convolutional/base_conv.py:113: UserWarning: Do not pass an `input_shape`/`input_dim` argument to a layer. When using Sequential models, prefer using an `Input(shape)` object as the first layer in the model instead.\n",
      "  super().__init__(activity_regularizer=activity_regularizer, **kwargs)\n"
     ]
    },
    {
     "name": "stdout",
     "output_type": "stream",
     "text": [
      "Epoch 1/25\n",
      "\n",
      "Epoch 1: val_accuracy improved from None to 0.50000, saving model to outputs/step_1/models/v1_bs16_k5_do0.3_act-relu_opt-adamax_seed27.keras\n",
      "184/184 - 24s - 132ms/step - accuracy: 0.9701 - loss: 0.7864 - val_accuracy: 0.5000 - val_loss: 11.9052\n",
      "Epoch 2/25\n",
      "\n",
      "Epoch 2: val_accuracy improved from 0.50000 to 0.50238, saving model to outputs/step_1/models/v1_bs16_k5_do0.3_act-relu_opt-adamax_seed27.keras\n",
      "184/184 - 21s - 116ms/step - accuracy: 0.9806 - loss: 0.4304 - val_accuracy: 0.5024 - val_loss: 23.9806\n",
      "Epoch 3/25\n",
      "\n",
      "Epoch 3: val_accuracy improved from 0.50238 to 0.90476, saving model to outputs/step_1/models/v1_bs16_k5_do0.3_act-relu_opt-adamax_seed27.keras\n",
      "184/184 - 21s - 116ms/step - accuracy: 0.9796 - loss: 0.4750 - val_accuracy: 0.9048 - val_loss: 1.8782\n",
      "Epoch 4/25\n",
      "\n",
      "Epoch 4: val_accuracy improved from 0.90476 to 0.99286, saving model to outputs/step_1/models/v1_bs16_k5_do0.3_act-relu_opt-adamax_seed27.keras\n",
      "184/184 - 21s - 117ms/step - accuracy: 0.9817 - loss: 0.6450 - val_accuracy: 0.9929 - val_loss: 0.3537\n",
      "Epoch 5/25\n",
      "\n",
      "Epoch 5: val_accuracy did not improve from 0.99286\n",
      "184/184 - 21s - 117ms/step - accuracy: 0.9871 - loss: 0.3764 - val_accuracy: 0.9714 - val_loss: 0.8358\n",
      "Epoch 6/25\n",
      "\n",
      "Epoch 6: val_accuracy improved from 0.99286 to 1.00000, saving model to outputs/step_1/models/v1_bs16_k5_do0.3_act-relu_opt-adamax_seed27.keras\n",
      "184/184 - 22s - 117ms/step - accuracy: 0.9885 - loss: 0.4497 - val_accuracy: 1.0000 - val_loss: 0.0000e+00\n",
      "Epoch 7/25\n",
      "\n",
      "Epoch 7: val_accuracy did not improve from 1.00000\n",
      "184/184 - 22s - 119ms/step - accuracy: 0.9857 - loss: 0.5803 - val_accuracy: 0.9190 - val_loss: 3.8955\n",
      "Epoch 8/25\n",
      "\n",
      "Epoch 8: val_accuracy did not improve from 1.00000\n",
      "184/184 - 22s - 119ms/step - accuracy: 0.9891 - loss: 0.6042 - val_accuracy: 0.5548 - val_loss: 49.2454\n",
      "Epoch 9/25\n",
      "\n",
      "Epoch 9: val_accuracy did not improve from 1.00000\n",
      "184/184 - 22s - 117ms/step - accuracy: 0.9857 - loss: 0.7415 - val_accuracy: 0.9929 - val_loss: 0.4222\n",
      "Epoch 10/25\n",
      "\n",
      "Epoch 10: val_accuracy did not improve from 1.00000\n",
      "184/184 - 21s - 116ms/step - accuracy: 0.9803 - loss: 1.3147 - val_accuracy: 0.9571 - val_loss: 2.8476\n",
      "Epoch 10: early stopping\n",
      "Restoring model weights from the end of the best epoch: 6.\n",
      "\n",
      "=== [15/16] {'dropout': 0.3, 'kernel_size': 5, 'activation': 'elu', 'optimizer': 'adam'} ===\n"
     ]
    },
    {
     "name": "stderr",
     "output_type": "stream",
     "text": [
      "/Users/marcelldemeter/GIT/CodeInstitute/ci-p5-mildew-detector/mildew-env/lib/python3.12/site-packages/keras/src/layers/convolutional/base_conv.py:113: UserWarning: Do not pass an `input_shape`/`input_dim` argument to a layer. When using Sequential models, prefer using an `Input(shape)` object as the first layer in the model instead.\n",
      "  super().__init__(activity_regularizer=activity_regularizer, **kwargs)\n"
     ]
    },
    {
     "name": "stdout",
     "output_type": "stream",
     "text": [
      "Epoch 1/25\n",
      "\n",
      "Epoch 1: val_accuracy improved from None to 0.90000, saving model to outputs/step_1/models/v1_bs16_k5_do0.3_act-elu_opt-adam_seed27.keras\n",
      "184/184 - 34s - 185ms/step - accuracy: 0.9406 - loss: 0.5673 - val_accuracy: 0.9000 - val_loss: 0.4797\n",
      "Epoch 2/25\n",
      "\n",
      "Epoch 2: val_accuracy improved from 0.90000 to 0.96429, saving model to outputs/step_1/models/v1_bs16_k5_do0.3_act-elu_opt-adam_seed27.keras\n",
      "184/184 - 32s - 174ms/step - accuracy: 0.9548 - loss: 0.2178 - val_accuracy: 0.9643 - val_loss: 0.1043\n",
      "Epoch 3/25\n",
      "\n",
      "Epoch 3: val_accuracy improved from 0.96429 to 0.96905, saving model to outputs/step_1/models/v1_bs16_k5_do0.3_act-elu_opt-adam_seed27.keras\n",
      "184/184 - 31s - 171ms/step - accuracy: 0.9738 - loss: 0.1086 - val_accuracy: 0.9690 - val_loss: 0.0944\n",
      "Epoch 4/25\n",
      "\n",
      "Epoch 4: val_accuracy improved from 0.96905 to 0.97857, saving model to outputs/step_1/models/v1_bs16_k5_do0.3_act-elu_opt-adam_seed27.keras\n",
      "184/184 - 32s - 174ms/step - accuracy: 0.9840 - loss: 0.0850 - val_accuracy: 0.9786 - val_loss: 0.0604\n",
      "Epoch 5/25\n",
      "\n",
      "Epoch 5: val_accuracy did not improve from 0.97857\n",
      "184/184 - 32s - 172ms/step - accuracy: 0.9847 - loss: 0.0618 - val_accuracy: 0.5595 - val_loss: 12.1068\n",
      "Epoch 6/25\n",
      "\n",
      "Epoch 6: val_accuracy did not improve from 0.97857\n",
      "184/184 - 32s - 173ms/step - accuracy: 0.9769 - loss: 0.1822 - val_accuracy: 0.5095 - val_loss: 55.8942\n",
      "Epoch 7/25\n",
      "\n",
      "Epoch 7: val_accuracy did not improve from 0.97857\n",
      "184/184 - 32s - 172ms/step - accuracy: 0.9674 - loss: 0.2044 - val_accuracy: 0.5405 - val_loss: 6.3206\n",
      "Epoch 8/25\n",
      "\n",
      "Epoch 8: val_accuracy did not improve from 0.97857\n",
      "184/184 - 31s - 171ms/step - accuracy: 0.9742 - loss: 0.1011 - val_accuracy: 0.9738 - val_loss: 0.1308\n",
      "Epoch 8: early stopping\n",
      "Restoring model weights from the end of the best epoch: 4.\n",
      "\n",
      "=== [16/16] {'dropout': 0.3, 'kernel_size': 5, 'activation': 'elu', 'optimizer': 'adamax'} ===\n"
     ]
    },
    {
     "name": "stderr",
     "output_type": "stream",
     "text": [
      "/Users/marcelldemeter/GIT/CodeInstitute/ci-p5-mildew-detector/mildew-env/lib/python3.12/site-packages/keras/src/layers/convolutional/base_conv.py:113: UserWarning: Do not pass an `input_shape`/`input_dim` argument to a layer. When using Sequential models, prefer using an `Input(shape)` object as the first layer in the model instead.\n",
      "  super().__init__(activity_regularizer=activity_regularizer, **kwargs)\n"
     ]
    },
    {
     "name": "stdout",
     "output_type": "stream",
     "text": [
      "Epoch 1/25\n",
      "\n",
      "Epoch 1: val_accuracy improved from None to 0.50000, saving model to outputs/step_1/models/v1_bs16_k5_do0.3_act-elu_opt-adamax_seed27.keras\n",
      "184/184 - 38s - 204ms/step - accuracy: 0.9660 - loss: 0.5283 - val_accuracy: 0.5000 - val_loss: 23.9374\n",
      "Epoch 2/25\n",
      "\n",
      "Epoch 2: val_accuracy did not improve from 0.50000\n",
      "184/184 - 44s - 240ms/step - accuracy: 0.9789 - loss: 0.0832 - val_accuracy: 0.5000 - val_loss: 8.9780\n",
      "Epoch 3/25\n",
      "\n",
      "Epoch 3: val_accuracy improved from 0.50000 to 0.95000, saving model to outputs/step_1/models/v1_bs16_k5_do0.3_act-elu_opt-adamax_seed27.keras\n",
      "184/184 - 43s - 235ms/step - accuracy: 0.9885 - loss: 0.0430 - val_accuracy: 0.9500 - val_loss: 0.1366\n",
      "Epoch 4/25\n",
      "\n",
      "Epoch 4: val_accuracy improved from 0.95000 to 0.99762, saving model to outputs/step_1/models/v1_bs16_k5_do0.3_act-elu_opt-adamax_seed27.keras\n",
      "184/184 - 46s - 250ms/step - accuracy: 0.9925 - loss: 0.0343 - val_accuracy: 0.9976 - val_loss: 0.0067\n",
      "Epoch 5/25\n",
      "\n",
      "Epoch 5: val_accuracy did not improve from 0.99762\n",
      "184/184 - 46s - 249ms/step - accuracy: 0.9888 - loss: 0.0479 - val_accuracy: 0.9952 - val_loss: 0.0129\n",
      "Epoch 6/25\n",
      "\n",
      "Epoch 6: val_accuracy did not improve from 0.99762\n",
      "184/184 - 45s - 243ms/step - accuracy: 0.9888 - loss: 0.0443 - val_accuracy: 0.9833 - val_loss: 0.0642\n",
      "Epoch 7/25\n",
      "\n",
      "Epoch 7: val_accuracy did not improve from 0.99762\n",
      "184/184 - 45s - 247ms/step - accuracy: 0.9942 - loss: 0.0190 - val_accuracy: 0.9976 - val_loss: 0.0058\n",
      "Epoch 8/25\n",
      "\n",
      "Epoch 8: val_accuracy did not improve from 0.99762\n",
      "184/184 - 44s - 238ms/step - accuracy: 0.9956 - loss: 0.0137 - val_accuracy: 0.9929 - val_loss: 0.0185\n",
      "Epoch 8: early stopping\n",
      "Restoring model weights from the end of the best epoch: 4.\n",
      "\n",
      "Completed 16 runs in ~67.4 min\n"
     ]
    }
   ],
   "source": [
    "results = []\n",
    "t0 = time.time()\n",
    "for i, cfg in enumerate(SCENARIOS, 1):\n",
    "    print(f\"\\n=== [{i}/{len(SCENARIOS)}] {cfg} ===\")\n",
    "    res = train_and_eval(cfg)          # uses your build_model + callbacks + eval\n",
    "    results.append(res)\n",
    "\n",
    "print(f\"\\nCompleted {len(SCENARIOS)} runs in ~{(time.time()-t0)/60:.1f} min\")"
   ]
  },
  {
   "cell_type": "markdown",
   "id": "8d28f2d7",
   "metadata": {},
   "source": [
    "### Create Dataframe on results and save to .csv"
   ]
  },
  {
   "cell_type": "code",
   "execution_count": 24,
   "id": "80d80a64",
   "metadata": {},
   "outputs": [
    {
     "name": "stdout",
     "output_type": "stream",
     "text": [
      "Saved report to: outputs/step_1/reports/grid_report_bs16.csv\n"
     ]
    }
   ],
   "source": [
    "df = pd.DataFrame(results).sort_values(\n",
    "    by=[\"val_accuracy\", \"val_loss\"], ascending=[False, True] # Sort by highest accuracy, then lowest loss\n",
    ").reset_index(drop=True)\n",
    "\n",
    "report_csv = os.path.join(reports_dir, f\"grid_report_bs{batch_size}.csv\")\n",
    "df.to_csv(report_csv, index=False)\n",
    "print(f\"Saved report to: {report_csv}\")"
   ]
  },
  {
   "cell_type": "markdown",
   "id": "734c204f",
   "metadata": {},
   "source": [
    "### See Results"
   ]
  },
  {
   "cell_type": "code",
   "execution_count": 25,
   "id": "9b822737",
   "metadata": {},
   "outputs": [
    {
     "data": {
      "text/html": [
       "<div>\n",
       "<style scoped>\n",
       "    .dataframe tbody tr th:only-of-type {\n",
       "        vertical-align: middle;\n",
       "    }\n",
       "\n",
       "    .dataframe tbody tr th {\n",
       "        vertical-align: top;\n",
       "    }\n",
       "\n",
       "    .dataframe thead th {\n",
       "        text-align: right;\n",
       "    }\n",
       "</style>\n",
       "<table border=\"1\" class=\"dataframe\">\n",
       "  <thead>\n",
       "    <tr style=\"text-align: right;\">\n",
       "      <th></th>\n",
       "      <th>tag</th>\n",
       "      <th>version</th>\n",
       "      <th>batch_size</th>\n",
       "      <th>dropout</th>\n",
       "      <th>kernel_size</th>\n",
       "      <th>activation</th>\n",
       "      <th>optimizer</th>\n",
       "      <th>epochs_trained</th>\n",
       "      <th>val_loss</th>\n",
       "      <th>val_accuracy</th>\n",
       "      <th>val_precision</th>\n",
       "      <th>val_recall</th>\n",
       "      <th>val_f1</th>\n",
       "      <th>confusion_matrix</th>\n",
       "    </tr>\n",
       "  </thead>\n",
       "  <tbody>\n",
       "    <tr>\n",
       "      <th>0</th>\n",
       "      <td>v1_bs16_k5_do0.3_act-relu_opt-adamax_seed27</td>\n",
       "      <td>v1</td>\n",
       "      <td>16</td>\n",
       "      <td>0.3</td>\n",
       "      <td>5</td>\n",
       "      <td>relu</td>\n",
       "      <td>adamax</td>\n",
       "      <td>10</td>\n",
       "      <td>0.000000</td>\n",
       "      <td>1.000000</td>\n",
       "      <td>1.000000</td>\n",
       "      <td>1.000000</td>\n",
       "      <td>1.000000</td>\n",
       "      <td>[[210, 0], [0, 210]]</td>\n",
       "    </tr>\n",
       "    <tr>\n",
       "      <th>1</th>\n",
       "      <td>v1_bs16_k3_do0.3_act-elu_opt-adamax_seed27</td>\n",
       "      <td>v1</td>\n",
       "      <td>16</td>\n",
       "      <td>0.3</td>\n",
       "      <td>3</td>\n",
       "      <td>elu</td>\n",
       "      <td>adamax</td>\n",
       "      <td>11</td>\n",
       "      <td>0.000965</td>\n",
       "      <td>1.000000</td>\n",
       "      <td>1.000000</td>\n",
       "      <td>1.000000</td>\n",
       "      <td>1.000000</td>\n",
       "      <td>[[210, 0], [0, 210]]</td>\n",
       "    </tr>\n",
       "    <tr>\n",
       "      <th>2</th>\n",
       "      <td>v1_bs16_k5_do0.5_act-elu_opt-adamax_seed27</td>\n",
       "      <td>v1</td>\n",
       "      <td>16</td>\n",
       "      <td>0.5</td>\n",
       "      <td>5</td>\n",
       "      <td>elu</td>\n",
       "      <td>adamax</td>\n",
       "      <td>12</td>\n",
       "      <td>0.002597</td>\n",
       "      <td>1.000000</td>\n",
       "      <td>1.000000</td>\n",
       "      <td>1.000000</td>\n",
       "      <td>1.000000</td>\n",
       "      <td>[[210, 0], [0, 210]]</td>\n",
       "    </tr>\n",
       "    <tr>\n",
       "      <th>3</th>\n",
       "      <td>v1_bs16_k5_do0.3_act-elu_opt-adamax_seed27</td>\n",
       "      <td>v1</td>\n",
       "      <td>16</td>\n",
       "      <td>0.3</td>\n",
       "      <td>5</td>\n",
       "      <td>elu</td>\n",
       "      <td>adamax</td>\n",
       "      <td>8</td>\n",
       "      <td>0.006746</td>\n",
       "      <td>0.997619</td>\n",
       "      <td>0.995261</td>\n",
       "      <td>1.000000</td>\n",
       "      <td>0.997625</td>\n",
       "      <td>[[209, 1], [0, 210]]</td>\n",
       "    </tr>\n",
       "    <tr>\n",
       "      <th>4</th>\n",
       "      <td>v1_bs16_k3_do0.3_act-relu_opt-adamax_seed27</td>\n",
       "      <td>v1</td>\n",
       "      <td>16</td>\n",
       "      <td>0.3</td>\n",
       "      <td>3</td>\n",
       "      <td>relu</td>\n",
       "      <td>adamax</td>\n",
       "      <td>9</td>\n",
       "      <td>0.038951</td>\n",
       "      <td>0.997619</td>\n",
       "      <td>1.000000</td>\n",
       "      <td>0.995238</td>\n",
       "      <td>0.997613</td>\n",
       "      <td>[[210, 0], [1, 209]]</td>\n",
       "    </tr>\n",
       "    <tr>\n",
       "      <th>5</th>\n",
       "      <td>v1_bs16_k3_do0.5_act-elu_opt-adam_seed27</td>\n",
       "      <td>v1</td>\n",
       "      <td>16</td>\n",
       "      <td>0.5</td>\n",
       "      <td>3</td>\n",
       "      <td>elu</td>\n",
       "      <td>adam</td>\n",
       "      <td>10</td>\n",
       "      <td>0.064844</td>\n",
       "      <td>0.997619</td>\n",
       "      <td>1.000000</td>\n",
       "      <td>0.995238</td>\n",
       "      <td>0.997613</td>\n",
       "      <td>[[210, 0], [1, 209]]</td>\n",
       "    </tr>\n",
       "    <tr>\n",
       "      <th>6</th>\n",
       "      <td>v1_bs16_k3_do0.5_act-relu_opt-adamax_seed27</td>\n",
       "      <td>v1</td>\n",
       "      <td>16</td>\n",
       "      <td>0.5</td>\n",
       "      <td>3</td>\n",
       "      <td>relu</td>\n",
       "      <td>adamax</td>\n",
       "      <td>7</td>\n",
       "      <td>0.229929</td>\n",
       "      <td>0.997619</td>\n",
       "      <td>1.000000</td>\n",
       "      <td>0.995238</td>\n",
       "      <td>0.997613</td>\n",
       "      <td>[[210, 0], [1, 209]]</td>\n",
       "    </tr>\n",
       "    <tr>\n",
       "      <th>7</th>\n",
       "      <td>v1_bs16_k3_do0.3_act-relu_opt-adam_seed27</td>\n",
       "      <td>v1</td>\n",
       "      <td>16</td>\n",
       "      <td>0.3</td>\n",
       "      <td>3</td>\n",
       "      <td>relu</td>\n",
       "      <td>adam</td>\n",
       "      <td>12</td>\n",
       "      <td>0.233087</td>\n",
       "      <td>0.997619</td>\n",
       "      <td>0.995261</td>\n",
       "      <td>1.000000</td>\n",
       "      <td>0.997625</td>\n",
       "      <td>[[209, 1], [0, 210]]</td>\n",
       "    </tr>\n",
       "  </tbody>\n",
       "</table>\n",
       "</div>"
      ],
      "text/plain": [
       "                                           tag version  batch_size  dropout  \\\n",
       "0  v1_bs16_k5_do0.3_act-relu_opt-adamax_seed27      v1          16      0.3   \n",
       "1   v1_bs16_k3_do0.3_act-elu_opt-adamax_seed27      v1          16      0.3   \n",
       "2   v1_bs16_k5_do0.5_act-elu_opt-adamax_seed27      v1          16      0.5   \n",
       "3   v1_bs16_k5_do0.3_act-elu_opt-adamax_seed27      v1          16      0.3   \n",
       "4  v1_bs16_k3_do0.3_act-relu_opt-adamax_seed27      v1          16      0.3   \n",
       "5     v1_bs16_k3_do0.5_act-elu_opt-adam_seed27      v1          16      0.5   \n",
       "6  v1_bs16_k3_do0.5_act-relu_opt-adamax_seed27      v1          16      0.5   \n",
       "7    v1_bs16_k3_do0.3_act-relu_opt-adam_seed27      v1          16      0.3   \n",
       "\n",
       "   kernel_size activation optimizer  epochs_trained  val_loss  val_accuracy  \\\n",
       "0            5       relu    adamax              10  0.000000      1.000000   \n",
       "1            3        elu    adamax              11  0.000965      1.000000   \n",
       "2            5        elu    adamax              12  0.002597      1.000000   \n",
       "3            5        elu    adamax               8  0.006746      0.997619   \n",
       "4            3       relu    adamax               9  0.038951      0.997619   \n",
       "5            3        elu      adam              10  0.064844      0.997619   \n",
       "6            3       relu    adamax               7  0.229929      0.997619   \n",
       "7            3       relu      adam              12  0.233087      0.997619   \n",
       "\n",
       "   val_precision  val_recall    val_f1      confusion_matrix  \n",
       "0       1.000000    1.000000  1.000000  [[210, 0], [0, 210]]  \n",
       "1       1.000000    1.000000  1.000000  [[210, 0], [0, 210]]  \n",
       "2       1.000000    1.000000  1.000000  [[210, 0], [0, 210]]  \n",
       "3       0.995261    1.000000  0.997625  [[209, 1], [0, 210]]  \n",
       "4       1.000000    0.995238  0.997613  [[210, 0], [1, 209]]  \n",
       "5       1.000000    0.995238  0.997613  [[210, 0], [1, 209]]  \n",
       "6       1.000000    0.995238  0.997613  [[210, 0], [1, 209]]  \n",
       "7       0.995261    1.000000  0.997625  [[209, 1], [0, 210]]  "
      ]
     },
     "execution_count": 25,
     "metadata": {},
     "output_type": "execute_result"
    }
   ],
   "source": [
    "df.head(8) # Display top 8 results"
   ]
  }
 ],
 "metadata": {
  "kernelspec": {
   "display_name": "mildew-env",
   "language": "python",
   "name": "python3"
  },
  "language_info": {
   "codemirror_mode": {
    "name": "ipython",
    "version": 3
   },
   "file_extension": ".py",
   "mimetype": "text/x-python",
   "name": "python",
   "nbconvert_exporter": "python",
   "pygments_lexer": "ipython3",
   "version": "3.12.9"
  }
 },
 "nbformat": 4,
 "nbformat_minor": 5
}
