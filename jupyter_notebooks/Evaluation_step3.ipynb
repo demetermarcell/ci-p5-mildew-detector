{
 "cells": [
  {
   "cell_type": "markdown",
   "id": "813fcb18",
   "metadata": {},
   "source": [
    "# Modelling and Evaluation Notebook"
   ]
  },
  {
   "cell_type": "markdown",
   "id": "21238f09",
   "metadata": {},
   "source": [
    "## Objectives\n",
    "\n",
    "* Rebuild data generators with batch size = 32 (same augmentation as Step 1 for training; rescale only for validation/test).\n",
    "* Load the top 5 scenarios from Step 1 and prepare them for retraining.\n",
    "* Create the CNN model for each selected scenario.\n",
    "* Fit each model (EarlyStopping + best‐model checkpoint).\n",
    "* Evaluate each run on the validation set and collect: loss, accuracy, precision, recall, F1, and a confusion matrix.\n",
    "* Build a simple leaderboard to compare runs and pick the top candidates for the next step.\n",
    "  \n",
    "\n",
    "## Inputs\n",
    "\n",
    "* inputs/mildew-dataset/cherry-leaves/train\n",
    "* inputs/mildew-dataset/cherry-leaves/test\n",
    "* inputs/mildew-dataset/cherry-leaves/validation\n",
    "* image shape embeddings\n",
    "* Step-1 leaderboard (outputs/step_1/reports/grid_report_bs16.csv) to select the top 5 configurations\n",
    "\n",
    "## Outputs\n",
    "* Best-epoch model files per scenario.\n",
    "* Training histories.\n",
    "* Learning-curve plots (accuracy/loss).\n",
    "* Validation metrics per run. (loss, accuracy, precision, recall, F1, confusion matrix)\n",
    "* Consolidated leaderboard for Step 2. (sorted by validation accuracy, tie-break by validation loss)\n",
    "* Shortlist (top 3) ready for test-set evaluation in the final step\n",
    "\n",
    "## Additional Comments | Insights | Conclusions"
   ]
  },
  {
   "cell_type": "markdown",
   "id": "05f9af52",
   "metadata": {},
   "source": [
    "---"
   ]
  },
  {
   "cell_type": "markdown",
   "id": "83795410",
   "metadata": {},
   "source": [
    "## Import Libraries"
   ]
  },
  {
   "cell_type": "code",
   "execution_count": 54,
   "id": "e23eb02e",
   "metadata": {},
   "outputs": [],
   "source": [
    "\n",
    "import os, math, json, itertools, time, joblib\n",
    "import pandas as pd\n",
    "import numpy as np\n",
    "import matplotlib.pyplot as plt\n",
    "import seaborn as sns\n",
    "from matplotlib.image import imread\n",
    "from pathlib import Path\n",
    "\n",
    "# TensorFlow and Keras:\n",
    "import tensorflow as tf\n",
    "from tensorflow.keras.models import load_model\n",
    "from tensorflow.keras.preprocessing.image import ImageDataGenerator\n",
    "\n",
    "# Sklearn:\n",
    "from sklearn.metrics import classification_report, accuracy_score, precision_score, recall_score, f1_score, confusion_matrix, ConfusionMatrixDisplay"
   ]
  },
  {
   "cell_type": "markdown",
   "id": "9c57a0a1",
   "metadata": {},
   "source": [
    "---"
   ]
  },
  {
   "cell_type": "markdown",
   "id": "84af3a75",
   "metadata": {},
   "source": [
    "## Set Seed"
   ]
  },
  {
   "cell_type": "code",
   "execution_count": 55,
   "id": "076422ed",
   "metadata": {},
   "outputs": [],
   "source": [
    "SEED = 27\n",
    "np.random.seed(SEED)\n",
    "tf.random.set_seed(SEED)"
   ]
  },
  {
   "cell_type": "markdown",
   "id": "bc4da49b",
   "metadata": {},
   "source": [
    "---"
   ]
  },
  {
   "cell_type": "markdown",
   "id": "02a6c1d9",
   "metadata": {},
   "source": [
    "## Define Main Variables"
   ]
  },
  {
   "cell_type": "code",
   "execution_count": 56,
   "id": "6a961578",
   "metadata": {},
   "outputs": [],
   "source": [
    "version = 'step_3'\n",
    "\n",
    "# Set batch size\n",
    "batch_size = 32\n",
    "\n",
    "# Set number of epochs\n",
    "epochs = 25\n"
   ]
  },
  {
   "cell_type": "markdown",
   "id": "70eed715",
   "metadata": {},
   "source": [
    "---"
   ]
  },
  {
   "cell_type": "markdown",
   "id": "cf8bcded",
   "metadata": {},
   "source": [
    "# Set Directories"
   ]
  },
  {
   "cell_type": "markdown",
   "id": "c34aff81",
   "metadata": {},
   "source": [
    "  ## Set Working Directory"
   ]
  },
  {
   "cell_type": "code",
   "execution_count": 57,
   "id": "1b49532c",
   "metadata": {},
   "outputs": [
    {
     "name": "stdout",
     "output_type": "stream",
     "text": [
      "New working directory: /Users/marcelldemeter/GIT/CodeInstitute/ci-p5-mildew-detector \n"
     ]
    }
   ],
   "source": [
    "# Parent directory\n",
    "parent_dir =  \"/Users/marcelldemeter/GIT/CodeInstitute/ci-p5-mildew-detector\"\n",
    "\n",
    "# Change working directory to parent directory\n",
    "os.chdir(parent_dir)\n",
    "print (f\"New working directory: {os.getcwd()} \")"
   ]
  },
  {
   "cell_type": "markdown",
   "id": "dac8bcbe",
   "metadata": {},
   "source": [
    "## Set Input Directory"
   ]
  },
  {
   "cell_type": "code",
   "execution_count": 58,
   "id": "16455d70",
   "metadata": {},
   "outputs": [],
   "source": [
    "dataset_dir = \"inputs/mildew-dataset/cherry-leaves\"\n",
    "train_dir = os.path.join(parent_dir, dataset_dir, \"train\")\n",
    "validation_dir = os.path.join(parent_dir, dataset_dir, \"validation\")\n",
    "test_dir = os.path.join(parent_dir, dataset_dir, \"test\")"
   ]
  },
  {
   "cell_type": "markdown",
   "id": "b3077699",
   "metadata": {},
   "source": [
    "## Set Output Directory"
   ]
  },
  {
   "cell_type": "code",
   "execution_count": 59,
   "id": "b6424fd3",
   "metadata": {},
   "outputs": [
    {
     "name": "stdout",
     "output_type": "stream",
     "text": [
      "Old version is already available create a new version.\n"
     ]
    }
   ],
   "source": [
    "\n",
    "file_path = f'outputs/{version}'\n",
    "\n",
    "# Create main output directory if it doesn’t exist\n",
    "if 'outputs' in os.listdir(parent_dir) and version in os.listdir(parent_dir + '/outputs'):\n",
    "    print('Old version is already available create a new version.')\n",
    "    pass\n",
    "else:\n",
    "    os.makedirs(name=file_path)\n",
    "\n",
    "# Define subfolders and ensure they exist:\n",
    "models_dir = os.path.join(file_path, 'models')\n",
    "reports_dir = os.path.join(file_path, 'reports')\n",
    "\n",
    "os.makedirs(models_dir, exist_ok=True)\n",
    "os.makedirs(reports_dir, exist_ok=True)\n"
   ]
  },
  {
   "cell_type": "markdown",
   "id": "eefadff6",
   "metadata": {},
   "source": [
    "### Get Artifact Paths:"
   ]
  },
  {
   "cell_type": "code",
   "execution_count": 60,
   "id": "3ed8efb8",
   "metadata": {},
   "outputs": [],
   "source": [
    "def get_artifact_paths(models_dir: str, reports_dir: str, tag: str) -> dict:\n",
    "    \"\"\"\n",
    "    Return file paths (no new dirs) for this run's artifacts, using the tag in filenames.\n",
    "    \"\"\"\n",
    "    return {\n",
    "        \"model_path\":   Path(models_dir)  / f\"{tag}.keras\",\n",
    "        \"history_pkl\":  Path(reports_dir) / f\"history_{tag}.pkl\",\n",
    "        \"evaluation_pkl\": Path(reports_dir) / f\"eval_{tag}.pkl\",\n",
    "        \"curve_png\":    Path(reports_dir) / f\"curves_{tag}.png\",\n",
    "    }"
   ]
  },
  {
   "cell_type": "markdown",
   "id": "f886fe24",
   "metadata": {},
   "source": [
    "---"
   ]
  },
  {
   "cell_type": "markdown",
   "id": "5cb61aea",
   "metadata": {},
   "source": [
    "## Load  Top 3 Scenarios from Batch 32 Run:"
   ]
  },
  {
   "cell_type": "code",
   "execution_count": 61,
   "id": "e8dfd7df",
   "metadata": {},
   "outputs": [],
   "source": [
    "prev_version = \"step_2\"  # adjust to your step_2 folder name\n",
    "df_prev = pd.read_csv(f\"outputs/{prev_version}/reports/grid_report_bs32.csv\")\n",
    "\n",
    "# same ranking rule as before\n",
    "df_prev = df_prev.sort_values(by=[\"val_accuracy\", \"val_loss\"], ascending=[False, True]).reset_index(drop=True)\n",
    "\n",
    "TOP_N = 3 \n",
    "\n",
    "df_top3 = df_prev.head(TOP_N).copy()"
   ]
  },
  {
   "cell_type": "markdown",
   "id": "c0360e99",
   "metadata": {},
   "source": [
    "---"
   ]
  },
  {
   "cell_type": "markdown",
   "id": "44d28d9a",
   "metadata": {},
   "source": [
    "## Set Labels"
   ]
  },
  {
   "cell_type": "code",
   "execution_count": 62,
   "id": "d7b9abbc",
   "metadata": {},
   "outputs": [
    {
     "name": "stdout",
     "output_type": "stream",
     "text": [
      "Label for the images are ['powdery_mildew', 'healthy']\n"
     ]
    }
   ],
   "source": [
    "# Set the labels\n",
    "labels = os.listdir(train_dir)\n",
    "print('Label for the images are', labels)"
   ]
  },
  {
   "cell_type": "markdown",
   "id": "d6931e95",
   "metadata": {},
   "source": [
    "## Set image shape"
   ]
  },
  {
   "cell_type": "code",
   "execution_count": 63,
   "id": "8be5db40",
   "metadata": {},
   "outputs": [
    {
     "data": {
      "text/plain": [
       "(256, 256, 3)"
      ]
     },
     "execution_count": 63,
     "metadata": {},
     "output_type": "execute_result"
    }
   ],
   "source": [
    "## Import saved image shape embedding\n",
    "import joblib\n",
    "image_shape = joblib.load(filename=f\"outputs/v1/image_shape.pkl\") # Set from previous run\n",
    "image_shape"
   ]
  },
  {
   "cell_type": "markdown",
   "id": "b8ddfb0c",
   "metadata": {},
   "source": [
    "---"
   ]
  },
  {
   "cell_type": "markdown",
   "id": "3be1e8e5",
   "metadata": {},
   "source": [
    "# Image Data Augmentation"
   ]
  },
  {
   "cell_type": "markdown",
   "id": "a252e7bf",
   "metadata": {},
   "source": [
    "### Image Data Generator"
   ]
  },
  {
   "cell_type": "code",
   "execution_count": 64,
   "id": "5eca2f31",
   "metadata": {},
   "outputs": [],
   "source": [
    "from tensorflow.keras.preprocessing.image import ImageDataGenerator"
   ]
  },
  {
   "cell_type": "markdown",
   "id": "94b4ca11",
   "metadata": {},
   "source": [
    "### Initialize ImageDataGenerator"
   ]
  },
  {
   "cell_type": "code",
   "execution_count": 65,
   "id": "c5779632",
   "metadata": {},
   "outputs": [],
   "source": [
    "augmented_image_data = ImageDataGenerator(rotation_range=20,\n",
    "                                          width_shift_range=0.10,\n",
    "                                          height_shift_range=0.10,\n",
    "                                          shear_range=0.1,\n",
    "                                          zoom_range=0.1,\n",
    "                                          horizontal_flip=True,\n",
    "                                          vertical_flip=True,\n",
    "                                          fill_mode='nearest',\n",
    "                                          rescale=1./255\n",
    "                                          )\n"
   ]
  },
  {
   "cell_type": "markdown",
   "id": "5de41e30",
   "metadata": {},
   "source": [
    "### Augment image datasets"
   ]
  },
  {
   "cell_type": "code",
   "execution_count": 66,
   "id": "9a4cf019",
   "metadata": {},
   "outputs": [
    {
     "name": "stdout",
     "output_type": "stream",
     "text": [
      "Found 844 images belonging to 2 classes.\n"
     ]
    },
    {
     "data": {
      "text/plain": [
       "{'healthy': 0, 'powdery_mildew': 1}"
      ]
     },
     "execution_count": 66,
     "metadata": {},
     "output_type": "execute_result"
    }
   ],
   "source": [
    "# Test Set:\n",
    "test_set = ImageDataGenerator(rescale=1./255).flow_from_directory(test_dir,\n",
    "                                                                  target_size=image_shape[:2],\n",
    "                                                                  color_mode='rgb',\n",
    "                                                                  batch_size=batch_size,\n",
    "                                                                  class_mode='binary',\n",
    "                                                                  shuffle=False\n",
    "                                                                  )\n",
    "\n",
    "\n",
    "test_set.class_indices"
   ]
  },
  {
   "cell_type": "markdown",
   "id": "940625c9",
   "metadata": {},
   "source": [
    "### Save class_indices"
   ]
  },
  {
   "cell_type": "code",
   "execution_count": 67,
   "id": "7b91ff75",
   "metadata": {},
   "outputs": [
    {
     "data": {
      "text/plain": [
       "['outputs/step_3/class_indices.pkl']"
      ]
     },
     "execution_count": 67,
     "metadata": {},
     "output_type": "execute_result"
    }
   ],
   "source": [
    "joblib.dump(value=test_set.class_indices,\n",
    "            filename=f\"{file_path}/class_indices.pkl\")"
   ]
  },
  {
   "cell_type": "markdown",
   "id": "e8772adb",
   "metadata": {},
   "source": [
    "---"
   ]
  },
  {
   "cell_type": "markdown",
   "id": "ab4f567f",
   "metadata": {},
   "source": [
    "## Confusion Matrix"
   ]
  },
  {
   "cell_type": "code",
   "execution_count": 68,
   "id": "127c7d43",
   "metadata": {},
   "outputs": [],
   "source": [
    "def plot_and_save_confusion_matrix(y_true, y_pred, class_names, out_path, title=None, show=True):\n",
    "    \"\"\"\n",
    "    Plot a confusion matrix,  display it inline, and save to disk.\n",
    "    Returns the numpy CM array.\n",
    "    \"\"\"\n",
    "    cm = confusion_matrix(y_true, y_pred)\n",
    "    fig, ax = plt.subplots(figsize=(4.5, 4))\n",
    "    disp = ConfusionMatrixDisplay(confusion_matrix=cm, display_labels=class_names)\n",
    "    disp.plot(values_format='d', cmap='summer', colorbar=False, ax=ax)\n",
    "    if title:\n",
    "        ax.set_title(title)\n",
    "    fig.tight_layout()\n",
    "\n",
    "    if show: \n",
    "        plt.show()\n",
    "\n",
    "    fig.savefig(out_path, dpi=140) # save the figure\n",
    "    plt.close(fig)\n",
    "    return cm"
   ]
  },
  {
   "cell_type": "markdown",
   "id": "aebfbf22",
   "metadata": {},
   "source": [
    "### Evaluate on Test Set"
   ]
  },
  {
   "cell_type": "code",
   "execution_count": 69,
   "id": "4264b8c4",
   "metadata": {},
   "outputs": [],
   "source": [
    "def evaluate_on_test(model, test_set, classes, threshold=0.5):\n",
    "    \"\"\"\n",
    "    Returns dict with loss, accuracy, precision, recall, f1, confusion matrix, and classification report text.\n",
    "    \"\"\"\n",
    "    # Keras loss & accuracy\n",
    "    test_set.reset()\n",
    "    loss, acc = model.evaluate(test_set, verbose=0)\n",
    "\n",
    "    # Probabilities -> hard preds\n",
    "    test_set.reset()\n",
    "    y_prob = model.predict(test_set, verbose=0).squeeze()     # (N,)\n",
    "    y_true = test_set.classes                                 # (N,)\n",
    "    y_pred = (y_prob >= threshold).astype(int)\n",
    "\n",
    "    # PRF for positive class=1 (adjust pos_label if your positive class is 0)\n",
    "    prec = precision_score(y_true, y_pred, zero_division=0)\n",
    "    rec  = recall_score(y_true, y_pred, zero_division=0)\n",
    "    f1   = f1_score(y_true, y_pred, zero_division=0)\n",
    "\n",
    "    # Text report (human-readable, optional)\n",
    "    report_txt = classification_report(y_true, y_pred, target_names=classes, zero_division=0)\n",
    "\n",
    "    return {\n",
    "        \"test_loss\": float(loss),\n",
    "        \"test_accuracy\": float(acc),\n",
    "        \"test_precision\": float(prec),\n",
    "        \"test_recall\": float(rec),\n",
    "        \"test_f1\": float(f1),\n",
    "        \"y_true\": y_true,\n",
    "        \"y_pred\": y_pred,\n",
    "        \"report_txt\": report_txt\n",
    "    }"
   ]
  },
  {
   "cell_type": "markdown",
   "id": "4b9d5ca7",
   "metadata": {},
   "source": [
    "## Execute Evaluation"
   ]
  },
  {
   "cell_type": "code",
   "execution_count": 70,
   "id": "4c9982b1",
   "metadata": {},
   "outputs": [
    {
     "name": "stdout",
     "output_type": "stream",
     "text": [
      "\n",
      "=== [1/3] Evaluating on TEST: step_2_bs32_k3_do0.3_act-relu_opt-adamax_seed27 ===\n"
     ]
    },
    {
     "name": "stderr",
     "output_type": "stream",
     "text": [
      "/Users/marcelldemeter/GIT/CodeInstitute/ci-p5-mildew-detector/mildew-env/lib/python3.12/site-packages/keras/src/trainers/data_adapters/py_dataset_adapter.py:121: UserWarning: Your `PyDataset` class should call `super().__init__(**kwargs)` in its constructor. `**kwargs` can include `workers`, `use_multiprocessing`, `max_queue_size`. Do not pass these arguments to `fit()`, as they will be ignored.\n",
      "  self._warn_if_super_not_called()\n"
     ]
    },
    {
     "data": {
      "image/png": "[encoded data removed]",
      "text/plain": [
       "<Figure size 450x400 with 1 Axes>"
      ]
     },
     "metadata": {},
     "output_type": "display_data"
    },
    {
     "name": "stdout",
     "output_type": "stream",
     "text": [
      "\n",
      "=== [2/3] Evaluating on TEST: step_2_bs32_k3_do0.3_act-elu_opt-adamax_seed27 ===\n"
     ]
    },
    {
     "data": {
      "image/png": "[encoded data removed]",
      "text/plain": [
       "<Figure size 450x400 with 1 Axes>"
      ]
     },
     "metadata": {},
     "output_type": "display_data"
    },
    {
     "name": "stdout",
     "output_type": "stream",
     "text": [
      "\n",
      "=== [3/3] Evaluating on TEST: step_2_bs32_k5_do0.5_act-elu_opt-adamax_seed27 ===\n"
     ]
    },
    {
     "data": {
      "image/png": "[encoded data removed]",
      "text/plain": [
       "<Figure size 450x400 with 1 Axes>"
      ]
     },
     "metadata": {},
     "output_type": "display_data"
    },
    {
     "name": "stdout",
     "output_type": "stream",
     "text": [
      "\n",
      "Finished TEST evaluation for 3 models in ~0.2 min\n"
     ]
    }
   ],
   "source": [
    "step2_models_dir = \"outputs/step_2/models\"\n",
    "\n",
    "class_indices = test_set.class_indices\n",
    "classes = [k for k, _ in sorted(class_indices.items(), key=lambda kv: kv[1])]\n",
    "\n",
    "results = []\n",
    "t0 = time.time()\n",
    "\n",
    "for i, row in df_top3.iterrows():\n",
    "    tag = row[\"tag\"]\n",
    "    model_path = os.path.join(step2_models_dir, f\"{tag}.keras\")\n",
    "    assert os.path.exists(model_path), f\"Model file not found: {model_path}\"\n",
    "\n",
    "    print(f\"\\n=== [{i+1}/{TOP_N}] Evaluating on TEST: {tag} ===\")\n",
    "    model = load_model(model_path)\n",
    "\n",
    "    # Evaluate\n",
    "    metrics = evaluate_on_test(model, test_set, classes, threshold=0.5)\n",
    "\n",
    "    # Confusion matrix plot\n",
    "    cm_png = os.path.join(reports_dir, f\"cm_test_{tag}.png\")\n",
    "    cm = plot_and_save_confusion_matrix(\n",
    "        y_true=metrics[\"y_true\"],\n",
    "        y_pred=metrics[\"y_pred\"],\n",
    "        class_names=classes,\n",
    "        out_path=cm_png,\n",
    "        title=f\"Confusion Matrix (TEST) — {tag}\",\n",
    "        show=True\n",
    "    )\n",
    "\n",
    "    # Persist per-model text report (optional)\n",
    "    report_txt_path = os.path.join(reports_dir, f\"cls_report_test_{tag}.txt\")\n",
    "    with open(report_txt_path, \"w\") as f:\n",
    "        f.write(metrics[\"report_txt\"])\n",
    "\n",
    "    # Row for the final CSV\n",
    "    results.append({\n",
    "        \"tag\": tag,\n",
    "        \"dropout\": row[\"dropout\"],\n",
    "        \"kernel_size\": row[\"kernel_size\"],\n",
    "        \"activation\": row[\"activation\"],\n",
    "        \"optimizer\": row[\"optimizer\"],\n",
    "        \"test_loss\": metrics[\"test_loss\"],\n",
    "        \"test_accuracy\": metrics[\"test_accuracy\"],\n",
    "        \"test_precision\": metrics[\"test_precision\"],\n",
    "        \"test_recall\": metrics[\"test_recall\"],\n",
    "        \"test_f1\": metrics[\"test_f1\"],\n",
    "        \"cm_png\": cm_png,\n",
    "        \"model_path\": model_path,\n",
    "        \"report_txt\": report_txt_path\n",
    "    })\n",
    "\n",
    "elapsed = (time.time() - t0) / 60\n",
    "print(f\"\\nFinished TEST evaluation for {TOP_N} models in ~{elapsed:.1f} min\")\n"
   ]
  },
  {
   "cell_type": "markdown",
   "id": "9735022b",
   "metadata": {},
   "source": [
    "## Save the test leaderboard .csv and preview"
   ]
  },
  {
   "cell_type": "code",
   "execution_count": 71,
   "id": "8e4131b2",
   "metadata": {},
   "outputs": [
    {
     "name": "stdout",
     "output_type": "stream",
     "text": [
      "Saved TEST leaderboard to: outputs/step_3/reports/test_results_bs32.csv\n"
     ]
    },
    {
     "data": {
      "text/html": [
       "<div>\n",
       "<style scoped>\n",
       "    .dataframe tbody tr th:only-of-type {\n",
       "        vertical-align: middle;\n",
       "    }\n",
       "\n",
       "    .dataframe tbody tr th {\n",
       "        vertical-align: top;\n",
       "    }\n",
       "\n",
       "    .dataframe thead th {\n",
       "        text-align: right;\n",
       "    }\n",
       "</style>\n",
       "<table border=\"1\" class=\"dataframe\">\n",
       "  <thead>\n",
       "    <tr style=\"text-align: right;\">\n",
       "      <th></th>\n",
       "      <th>tag</th>\n",
       "      <th>dropout</th>\n",
       "      <th>kernel_size</th>\n",
       "      <th>activation</th>\n",
       "      <th>optimizer</th>\n",
       "      <th>test_accuracy</th>\n",
       "      <th>test_loss</th>\n",
       "      <th>test_precision</th>\n",
       "      <th>test_recall</th>\n",
       "      <th>test_f1</th>\n",
       "      <th>cm_png</th>\n",
       "    </tr>\n",
       "  </thead>\n",
       "  <tbody>\n",
       "    <tr>\n",
       "      <th>0</th>\n",
       "      <td>step_2_bs32_k3_do0.3_act-elu_opt-adamax_seed27</td>\n",
       "      <td>0.3</td>\n",
       "      <td>3</td>\n",
       "      <td>elu</td>\n",
       "      <td>adamax</td>\n",
       "      <td>1.000000</td>\n",
       "      <td>0.003097</td>\n",
       "      <td>1.0</td>\n",
       "      <td>1.000000</td>\n",
       "      <td>1.000000</td>\n",
       "      <td>outputs/step_3/reports/cm_test_step_2_bs32_k3_...</td>\n",
       "    </tr>\n",
       "    <tr>\n",
       "      <th>1</th>\n",
       "      <td>step_2_bs32_k5_do0.5_act-elu_opt-adamax_seed27</td>\n",
       "      <td>0.5</td>\n",
       "      <td>5</td>\n",
       "      <td>elu</td>\n",
       "      <td>adamax</td>\n",
       "      <td>0.998815</td>\n",
       "      <td>0.001707</td>\n",
       "      <td>1.0</td>\n",
       "      <td>0.997630</td>\n",
       "      <td>0.998814</td>\n",
       "      <td>outputs/step_3/reports/cm_test_step_2_bs32_k5_...</td>\n",
       "    </tr>\n",
       "    <tr>\n",
       "      <th>2</th>\n",
       "      <td>step_2_bs32_k3_do0.3_act-relu_opt-adamax_seed27</td>\n",
       "      <td>0.3</td>\n",
       "      <td>3</td>\n",
       "      <td>relu</td>\n",
       "      <td>adamax</td>\n",
       "      <td>0.996445</td>\n",
       "      <td>0.134838</td>\n",
       "      <td>1.0</td>\n",
       "      <td>0.992891</td>\n",
       "      <td>0.996433</td>\n",
       "      <td>outputs/step_3/reports/cm_test_step_2_bs32_k3_...</td>\n",
       "    </tr>\n",
       "  </tbody>\n",
       "</table>\n",
       "</div>"
      ],
      "text/plain": [
       "                                               tag  dropout  kernel_size  \\\n",
       "0   step_2_bs32_k3_do0.3_act-elu_opt-adamax_seed27      0.3            3   \n",
       "1   step_2_bs32_k5_do0.5_act-elu_opt-adamax_seed27      0.5            5   \n",
       "2  step_2_bs32_k3_do0.3_act-relu_opt-adamax_seed27      0.3            3   \n",
       "\n",
       "  activation optimizer  test_accuracy  test_loss  test_precision  test_recall  \\\n",
       "0        elu    adamax       1.000000   0.003097             1.0     1.000000   \n",
       "1        elu    adamax       0.998815   0.001707             1.0     0.997630   \n",
       "2       relu    adamax       0.996445   0.134838             1.0     0.992891   \n",
       "\n",
       "    test_f1                                             cm_png  \n",
       "0  1.000000  outputs/step_3/reports/cm_test_step_2_bs32_k3_...  \n",
       "1  0.998814  outputs/step_3/reports/cm_test_step_2_bs32_k5_...  \n",
       "2  0.996433  outputs/step_3/reports/cm_test_step_2_bs32_k3_...  "
      ]
     },
     "execution_count": 71,
     "metadata": {},
     "output_type": "execute_result"
    }
   ],
   "source": [
    "df_test = pd.DataFrame(results).sort_values(\n",
    "    by=[\"test_accuracy\", \"test_loss\"], ascending=[False, True]\n",
    ").reset_index(drop=True)\n",
    "\n",
    "test_csv = os.path.join(reports_dir, f\"test_results_bs{batch_size}.csv\")  # e.g., test_results_bs32.csv\n",
    "df_test.to_csv(test_csv, index=False)\n",
    "print(\"Saved TEST leaderboard to:\", test_csv)\n",
    "\n",
    "# Quick peek\n",
    "df_test[[\n",
    "    \"tag\",\"dropout\",\"kernel_size\",\"activation\",\"optimizer\",\n",
    "    \"test_accuracy\",\"test_loss\",\"test_precision\",\"test_recall\",\"test_f1\",\"cm_png\"\n",
    "]].head(TOP_N)"
   ]
  }
 ],
 "metadata": {
  "kernelspec": {
   "display_name": "mildew-env",
   "language": "python",
   "name": "python3"
  },
  "language_info": {
   "codemirror_mode": {
    "name": "ipython",
    "version": 3
   },
   "file_extension": ".py",
   "mimetype": "text/x-python",
   "name": "python",
   "nbconvert_exporter": "python",
   "pygments_lexer": "ipython3",
   "version": "3.12.9"
  }
 },
 "nbformat": 4,
 "nbformat_minor": 5
}
