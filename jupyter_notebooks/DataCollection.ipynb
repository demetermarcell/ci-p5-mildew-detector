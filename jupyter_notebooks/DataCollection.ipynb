{
 "cells": [
  {
   "cell_type": "markdown",
   "id": "2b9a2b8f",
   "metadata": {},
   "source": [
    "# Data Collection\n",
    "\n",
    "## Objectives\n",
    "- Fetch data from Katggle and prepare it for further processing.\n",
    "- Check Data Quality and Clean (if necessary)\n",
    "- Split Data into Train, Validation and Test sets\n",
    "## Inputs\n",
    "- Kaggle JSON file - authentication token\n",
    "## Outputs\n",
    "- Images split into Train/Validation/Test folders and healthy/infected subfolders."
   ]
  },
  {
   "cell_type": "markdown",
   "id": "3feb6c5f",
   "metadata": {},
   "source": [
    "---"
   ]
  },
  {
   "cell_type": "markdown",
   "id": "6bc01c59",
   "metadata": {},
   "source": [
    "# Import Packages"
   ]
  },
  {
   "cell_type": "code",
   "execution_count": 51,
   "id": "1a0a7139",
   "metadata": {},
   "outputs": [],
   "source": [
    "# Uncomment to install dependencies:\n",
    "# %pip install -r ../requirements.txt"
   ]
  },
  {
   "cell_type": "code",
   "execution_count": 52,
   "id": "5fe6e6a3",
   "metadata": {},
   "outputs": [],
   "source": [
    "import numpy\n",
    "import os\n",
    "import shutil\n",
    "import random\n",
    "import joblib"
   ]
  },
  {
   "cell_type": "markdown",
   "id": "7c732b62",
   "metadata": {},
   "source": [
    "---"
   ]
  },
  {
   "cell_type": "markdown",
   "id": "429007bd",
   "metadata": {},
   "source": [
    "# Change Working Directory\n",
    "\n",
    "The notebooks are located in a subfolder. The next steps switch the working directory to the parent folder to ensure access to the data."
   ]
  },
  {
   "cell_type": "code",
   "execution_count": 53,
   "id": "3bae8ada",
   "metadata": {},
   "outputs": [
    {
     "name": "stdout",
     "output_type": "stream",
     "text": [
      "Current working directory: /Users/marcelldemeter/GIT/CodeInstitute/ci-p5-mildew-detector \n",
      "New working directory: /Users/marcelldemeter/GIT/CodeInstitute/ci-p5-mildew-detector \n"
     ]
    }
   ],
   "source": [
    "# Check current working directory\n",
    "current_dir = os.getcwd()\n",
    "print (f\"Current working directory: {current_dir} \")\n",
    "\n",
    "# Parent directory\n",
    "parent_dir =  \"/Users/marcelldemeter/GIT/CodeInstitute/ci-p5-mildew-detector\"\n",
    "\n",
    "# Change working directory to parent directory\n",
    "os.chdir(parent_dir)\n",
    "print (f\"New working directory: {os.getcwd()} \")"
   ]
  },
  {
   "cell_type": "markdown",
   "id": "be85c82c",
   "metadata": {},
   "source": [
    "---"
   ]
  },
  {
   "cell_type": "markdown",
   "id": "93008687",
   "metadata": {},
   "source": [
    "# Install Kaggle"
   ]
  },
  {
   "cell_type": "code",
   "execution_count": 54,
   "id": "7bbba562",
   "metadata": {},
   "outputs": [
    {
     "name": "stdout",
     "output_type": "stream",
     "text": [
      "Requirement already satisfied: kaggle in ./mildew-env/lib/python3.12/site-packages (1.7.4.5)\n",
      "Requirement already satisfied: bleach in ./mildew-env/lib/python3.12/site-packages (from kaggle) (6.2.0)\n",
      "Requirement already satisfied: certifi>=14.05.14 in ./mildew-env/lib/python3.12/site-packages (from kaggle) (2025.10.5)\n",
      "Requirement already satisfied: charset-normalizer in ./mildew-env/lib/python3.12/site-packages (from kaggle) (3.4.3)\n",
      "Requirement already satisfied: idna in ./mildew-env/lib/python3.12/site-packages (from kaggle) (3.10)\n",
      "Requirement already satisfied: protobuf in ./mildew-env/lib/python3.12/site-packages (from kaggle) (4.25.8)\n",
      "Requirement already satisfied: python-dateutil>=2.5.3 in ./mildew-env/lib/python3.12/site-packages (from kaggle) (2.9.0.post0)\n",
      "Requirement already satisfied: python-slugify in ./mildew-env/lib/python3.12/site-packages (from kaggle) (8.0.4)\n",
      "Requirement already satisfied: requests in ./mildew-env/lib/python3.12/site-packages (from kaggle) (2.32.5)\n",
      "Requirement already satisfied: setuptools>=21.0.0 in ./mildew-env/lib/python3.12/site-packages (from kaggle) (80.9.0)\n",
      "Requirement already satisfied: six>=1.10 in ./mildew-env/lib/python3.12/site-packages (from kaggle) (1.17.0)\n",
      "Requirement already satisfied: text-unidecode in ./mildew-env/lib/python3.12/site-packages (from kaggle) (1.3)\n",
      "Requirement already satisfied: tqdm in ./mildew-env/lib/python3.12/site-packages (from kaggle) (4.67.1)\n",
      "Requirement already satisfied: urllib3>=1.15.1 in ./mildew-env/lib/python3.12/site-packages (from kaggle) (2.5.0)\n",
      "Requirement already satisfied: webencodings in ./mildew-env/lib/python3.12/site-packages (from kaggle) (0.5.1)\n",
      "Note: you may need to restart the kernel to use updated packages.\n"
     ]
    }
   ],
   "source": [
    "%pip install kaggle"
   ]
  },
  {
   "cell_type": "markdown",
   "id": "647f8894",
   "metadata": {},
   "source": [
    "Set the Kaggle configuration directory to the current working directory and adjust the permissions of the Kaggle authentication JSON file."
   ]
  },
  {
   "cell_type": "code",
   "execution_count": 55,
   "id": "6efa0eec",
   "metadata": {},
   "outputs": [],
   "source": [
    "os.environ['KAGGLE_CONFIG_DIR'] = os.getcwd()\n",
    "! chmod 600 kaggle.json"
   ]
  },
  {
   "cell_type": "markdown",
   "id": "1288d6f3",
   "metadata": {},
   "source": [
    "Set Kaggle Dataset and Download it"
   ]
  },
  {
   "cell_type": "code",
   "execution_count": 56,
   "id": "0d1d440a",
   "metadata": {},
   "outputs": [
    {
     "name": "stdout",
     "output_type": "stream",
     "text": [
      "Dataset URL: https://www.kaggle.com/datasets/codeinstitute/cherry-leaves\n",
      "License(s): unknown\n",
      "Downloading cherry-leaves.zip to inputs/mildew-dataset\n",
      "  0%|                                               | 0.00/55.0M [00:00<?, ?B/s]\n",
      "100%|██████████████████████████████████████| 55.0M/55.0M [00:00<00:00, 2.52GB/s]\n"
     ]
    }
   ],
   "source": [
    "KaggleDatasetPath = \"codeinstitute/cherry-leaves\"\n",
    "DestinationFolder = \"inputs/mildew-dataset\"   \n",
    "! kaggle datasets download -d {KaggleDatasetPath} -p {DestinationFolder}"
   ]
  },
  {
   "cell_type": "markdown",
   "id": "12f19130",
   "metadata": {},
   "source": [
    "Unzip the downloaded file, and delete the zip file."
   ]
  },
  {
   "cell_type": "code",
   "execution_count": 57,
   "id": "638a7853",
   "metadata": {},
   "outputs": [],
   "source": [
    "import zipfile\n",
    "with zipfile.ZipFile(DestinationFolder + '/cherry-leaves.zip', 'r') as zip_ref:\n",
    "    zip_ref.extractall(DestinationFolder)\n",
    "\n",
    "os.remove(DestinationFolder + '/cherry-leaves.zip')"
   ]
  },
  {
   "cell_type": "markdown",
   "id": "e385ef2d",
   "metadata": {},
   "source": [
    "---"
   ]
  },
  {
   "cell_type": "markdown",
   "id": "9d6020e9",
   "metadata": {},
   "source": [
    "# Data Preparation"
   ]
  },
  {
   "cell_type": "markdown",
   "id": "66d96328",
   "metadata": {},
   "source": [
    "---"
   ]
  },
  {
   "cell_type": "markdown",
   "id": "fa5f7b50",
   "metadata": {},
   "source": [
    "## Data Cleaning\n",
    "\n",
    "### Check and remove non-image files"
   ]
  },
  {
   "cell_type": "code",
   "execution_count": 58,
   "id": "57248992",
   "metadata": {},
   "outputs": [],
   "source": [
    "def remove_non_image_file(my_data_dir):\n",
    "    image_extension = ('.png', '.jpg', '.jpeg')\n",
    "    folders = os.listdir(my_data_dir)\n",
    "    for folder in folders:\n",
    "        files = os.listdir(my_data_dir + '/' + folder)\n",
    "        # print(files)\n",
    "        i = []\n",
    "        j = []\n",
    "        for given_file in files:\n",
    "            if not given_file.lower().endswith(image_extension):\n",
    "                file_location = my_data_dir + '/' + folder + '/' + given_file\n",
    "                os.remove(file_location)  # remove non image file\n",
    "                i.append(1)\n",
    "            else:\n",
    "                j.append(1)\n",
    "                pass\n",
    "        print(f\"Folder: {folder} - has image file\", len(j))\n",
    "        print(f\"Folder: {folder} - has non-image file\", len(i))"
   ]
  },
  {
   "cell_type": "code",
   "execution_count": 59,
   "id": "a190871e",
   "metadata": {},
   "outputs": [
    {
     "name": "stdout",
     "output_type": "stream",
     "text": [
      "Folder: powdery_mildew - has image file 2104\n",
      "Folder: powdery_mildew - has non-image file 0\n",
      "Folder: healthy - has image file 2104\n",
      "Folder: healthy - has non-image file 0\n"
     ]
    }
   ],
   "source": [
    "remove_non_image_file(my_data_dir='inputs/mildew-dataset/cherry-leaves')"
   ]
  },
  {
   "cell_type": "markdown",
   "id": "949f90c9",
   "metadata": {},
   "source": [
    "---"
   ]
  },
  {
   "cell_type": "markdown",
   "id": "8dfa428c",
   "metadata": {},
   "source": [
    "# Split to Train, Vaildation and Test sets"
   ]
  },
  {
   "cell_type": "markdown",
   "id": "9da66324",
   "metadata": {},
   "source": [
    "---"
   ]
  },
  {
   "cell_type": "code",
   "execution_count": 60,
   "id": "26c2c235",
   "metadata": {},
   "outputs": [],
   "source": [
    "def split_train_validation_test_images(my_data_dir, train_set_ratio, validation_set_ratio, test_set_ratio):\n",
    "\n",
    "    if train_set_ratio + validation_set_ratio + test_set_ratio != 1.0:\n",
    "        print(\"train_set_ratio + validation_set_ratio + test_set_ratio should sum to 1.0\")\n",
    "        return\n",
    "\n",
    "    # gets classes labels\n",
    "    labels = os.listdir(my_data_dir)  # it should get only the folder name\n",
    "    if 'test' in labels:\n",
    "        pass\n",
    "    else:\n",
    "        # create train, test folders with classes labels sub-folder\n",
    "        for folder in ['train', 'validation', 'test']:\n",
    "            for label in labels:\n",
    "                os.makedirs(name=my_data_dir + '/' + folder + '/' + label)\n",
    "\n",
    "        for label in labels:\n",
    "\n",
    "            files = os.listdir(my_data_dir + '/' + label)\n",
    "            random.shuffle(files)\n",
    "\n",
    "            train_set_files_qty = int(len(files) * train_set_ratio)\n",
    "            validation_set_files_qty = int(len(files) * validation_set_ratio)\n",
    "\n",
    "            count = 1\n",
    "            for file_name in files:\n",
    "                if count <= train_set_files_qty:\n",
    "                    # move a given file to the train set\n",
    "                    shutil.move(my_data_dir + '/' + label + '/' + file_name,\n",
    "                                my_data_dir + '/train/' + label + '/' + file_name)\n",
    "\n",
    "                elif count <= (train_set_files_qty + validation_set_files_qty):\n",
    "                    # move a given file to the validation set\n",
    "                    shutil.move(my_data_dir + '/' + label + '/' + file_name,\n",
    "                                my_data_dir + '/validation/' + label + '/' + file_name)\n",
    "\n",
    "                else:\n",
    "                    # move given file to test set\n",
    "                    shutil.move(my_data_dir + '/' + label + '/' + file_name,\n",
    "                                my_data_dir + '/test/' + label + '/' + file_name)\n",
    "\n",
    "                count += 1\n",
    "\n",
    "            os.rmdir(my_data_dir + '/' + label)\n"
   ]
  },
  {
   "cell_type": "markdown",
   "id": "4613c7e8",
   "metadata": {},
   "source": [
    "Conventional split ratios between train/valdation and test sets: 70%/10%/20%"
   ]
  },
  {
   "cell_type": "code",
   "execution_count": 61,
   "id": "64285947",
   "metadata": {},
   "outputs": [],
   "source": [
    "split_train_validation_test_images(my_data_dir=f\"inputs/mildew-dataset/cherry-leaves\",\n",
    "                                   train_set_ratio=0.7,\n",
    "                                   validation_set_ratio=0.1,\n",
    "                                   test_set_ratio=0.2\n",
    "                                   )"
   ]
  }
 ],
 "metadata": {
  "kernelspec": {
   "display_name": "mildew-env",
   "language": "python",
   "name": "python3"
  },
  "language_info": {
   "codemirror_mode": {
    "name": "ipython",
    "version": 3
   },
   "file_extension": ".py",
   "mimetype": "text/x-python",
   "name": "python",
   "nbconvert_exporter": "python",
   "pygments_lexer": "ipython3",
   "version": "3.12.9"
  }
 },
 "nbformat": 4,
 "nbformat_minor": 5
}
